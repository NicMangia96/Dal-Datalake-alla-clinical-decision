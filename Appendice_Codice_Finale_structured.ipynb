{
 "cells": [
  {
   "cell_type": "markdown",
   "id": "399a0db4",
   "metadata": {},
   "source": [
    "# Appendice Codice — Pipeline BRFSS 2015\n",
    "_Notebook generato automaticamente dal documento Word; include sezioni markdown e blocchi di codice eseguibili._"
   ]
  },
  {
   "cell_type": "markdown",
   "id": "59af1200",
   "metadata": {},
   "source": [
    "# Pre-processing"
   ]
  },
  {
   "cell_type": "markdown",
   "id": "df172ecb",
   "metadata": {},
   "source": [
    "Caricamento del dataset"
   ]
  },
  {
   "cell_type": "code",
   "execution_count": null,
   "id": "abe41869",
   "metadata": {},
   "outputs": [],
   "source": [
    "from google.colab import files\n",
    "uploaded = files.upload()\n",
    "import pandas as pd"
   ]
  },
  {
   "cell_type": "markdown",
   "id": "92ba37a7",
   "metadata": {},
   "source": [
    "# Caricamento del dataset dal file CSV"
   ]
  },
  {
   "cell_type": "code",
   "execution_count": null,
   "id": "49fb1d18",
   "metadata": {},
   "outputs": [],
   "source": [
    "df = pd.read_csv(\"heart_disease_health_indicators_BRFSS2015.csv\")"
   ]
  },
  {
   "cell_type": "markdown",
   "id": "4b38cce7",
   "metadata": {},
   "source": [
    "# Visualizzazione della forma del dataset"
   ]
  },
  {
   "cell_type": "code",
   "execution_count": null,
   "id": "0fbfdbf6",
   "metadata": {},
   "outputs": [],
   "source": [
    "print(\"Dimensioni del dataset:\", df.shape)"
   ]
  },
  {
   "cell_type": "markdown",
   "id": "99ccb581",
   "metadata": {},
   "source": [
    "# Visualizzazione dei tipi di dati"
   ]
  },
  {
   "cell_type": "code",
   "execution_count": null,
   "id": "f2922d95",
   "metadata": {},
   "outputs": [],
   "source": [
    "print(\"Tipi di variabili:\\n\", df.dtypes)"
   ]
  },
  {
   "cell_type": "markdown",
   "id": "2cac570e",
   "metadata": {},
   "source": [
    "# Visualizzazione dei primi 5 record"
   ]
  },
  {
   "cell_type": "code",
   "execution_count": null,
   "id": "1a9f71fc",
   "metadata": {},
   "outputs": [],
   "source": [
    "print(\"Prime 5 righe del dataset:\\n\", df.head())"
   ]
  },
  {
   "cell_type": "markdown",
   "id": "d24c5635",
   "metadata": {},
   "source": [
    "# Verifica della presenza di valori mancanti"
   ]
  },
  {
   "cell_type": "code",
   "execution_count": null,
   "id": "b3716780",
   "metadata": {},
   "outputs": [],
   "source": [
    "print(\"Valori nulli per colonna:\\n\", df.isnull().sum())"
   ]
  },
  {
   "cell_type": "markdown",
   "id": "7064a2bf",
   "metadata": {},
   "source": [
    "# Mostra le prime righe"
   ]
  },
  {
   "cell_type": "code",
   "execution_count": null,
   "id": "4ac3bf23",
   "metadata": {},
   "outputs": [],
   "source": [
    "df.head()"
   ]
  },
  {
   "cell_type": "markdown",
   "id": "71745aef",
   "metadata": {},
   "source": [
    "## Separazione X / y"
   ]
  },
  {
   "cell_type": "code",
   "execution_count": null,
   "id": "851fc1f3",
   "metadata": {},
   "outputs": [],
   "source": [
    "# Separazione tra features (X) e target (y)\n",
    "X = df.drop(columns=['HeartDiseaseorAttack'])\n",
    "y = df['HeartDiseaseorAttack']"
   ]
  },
  {
   "cell_type": "markdown",
   "id": "b8449151",
   "metadata": {},
   "source": [
    "# Controlli veloci"
   ]
  },
  {
   "cell_type": "code",
   "execution_count": null,
   "id": "beb4d971",
   "metadata": {},
   "outputs": [],
   "source": [
    "print(\"Shape X (features):\", X.shape)\n",
    "print(\"Shape y (target):\", y.shape)\n",
    "print(\"\\nPrime colonne di X:\", list(X.columns[:10]))\n",
    "print(\"\\nDistribuzione target (conteggi):\")\n",
    "print(y.value_counts())\n",
    "print(\"\\nDistribuzione target (%):\")\n",
    "print((y.value_counts(normalize=True)*100).round(2))"
   ]
  },
  {
   "cell_type": "markdown",
   "id": "9318a198",
   "metadata": {},
   "source": [
    "## Train–Test split"
   ]
  },
  {
   "cell_type": "code",
   "execution_count": null,
   "id": "dfc71b41",
   "metadata": {},
   "outputs": [],
   "source": [
    "from sklearn.model_selection import train_test_split\n",
    "# Suddivisione in training e test set (80%-20%)\n",
    "X_train, X_test, y_train, y_test = train_test_split("
   ]
  },
  {
   "cell_type": "markdown",
   "id": "2c53b276",
   "metadata": {},
   "source": [
    "X, y, test_size=0.2, random_state=42, stratify=y"
   ]
  },
  {
   "cell_type": "code",
   "execution_count": null,
   "id": "8032d96a",
   "metadata": {},
   "outputs": [],
   "source": [
    ")\n",
    "print(\"Shape X_train:\", X_train.shape)\n",
    "print(\"Shape X_test:\", X_test.shape)\n",
    "print(\"Distribuzione target nel training set:\")\n",
    "print(y_train.value_counts(normalize=True) * 100)"
   ]
  },
  {
   "cell_type": "markdown",
   "id": "a346b23f",
   "metadata": {},
   "source": [
    "## Standardizzazione del BMI"
   ]
  },
  {
   "cell_type": "code",
   "execution_count": null,
   "id": "cca072f4",
   "metadata": {},
   "outputs": [],
   "source": [
    "from sklearn.preprocessing import StandardScaler"
   ]
  },
  {
   "cell_type": "markdown",
   "id": "cc10e21d",
   "metadata": {},
   "source": [
    "# Creazione copia per non modificare direttamente il dataset"
   ]
  },
  {
   "cell_type": "code",
   "execution_count": null,
   "id": "caf48dea",
   "metadata": {},
   "outputs": [],
   "source": [
    "X_train_scaled = X_train.copy()\n",
    "X_test_scaled = X_test.copy()\n",
    "scaler = StandardScaler()"
   ]
  },
  {
   "cell_type": "markdown",
   "id": "009f883f",
   "metadata": {},
   "source": [
    "# Adattare lo scaler sul train e trasformiamo train e test"
   ]
  },
  {
   "cell_type": "code",
   "execution_count": null,
   "id": "3970220f",
   "metadata": {},
   "outputs": [],
   "source": [
    "X_train_scaled['BMI'] = scaler.fit_transform(X_train[['BMI']])\n",
    "X_test_scaled['BMI'] = scaler.transform(X_test[['BMI']])\n",
    "print(\"BMI normalizzato - media (train):\", round(X_train_scaled['BMI'].mean(), 4))\n",
    "print(\"BMI normalizzato - deviazione standard (train):\", round(X_train_scaled['BMI'].std(), 4))"
   ]
  },
  {
   "cell_type": "markdown",
   "id": "21743b34",
   "metadata": {},
   "source": [
    "## Encoding variabili categoriche"
   ]
  },
  {
   "cell_type": "code",
   "execution_count": null,
   "id": "d8d405eb",
   "metadata": {},
   "outputs": [],
   "source": [
    "ordinal_cols = ['GenHlth', 'Education', 'Income', 'Age']\n",
    "missing_ordinal = [c for c in ordinal_cols if c not in X_train_scaled.columns]\n",
    "if missing_ordinal:\n",
    "print(\"\\n[WARN] Colonne ordinali non trovate (verifica header):\", missing_ordinal)"
   ]
  },
  {
   "cell_type": "markdown",
   "id": "b667b466",
   "metadata": {},
   "source": [
    "## Verifica varianza (feature poco informative)"
   ]
  },
  {
   "cell_type": "code",
   "execution_count": null,
   "id": "ab2542c9",
   "metadata": {},
   "outputs": [],
   "source": [
    "from sklearn.feature_selection import VarianceThreshold"
   ]
  },
  {
   "cell_type": "markdown",
   "id": "81311a97",
   "metadata": {},
   "source": [
    "# Rimozione di feature costanti"
   ]
  },
  {
   "cell_type": "code",
   "execution_count": null,
   "id": "44941549",
   "metadata": {},
   "outputs": [],
   "source": [
    "selector = VarianceThreshold(threshold=0.0)  # elimina solo variabili con varianza nulla\n",
    "selector.fit(X_train_scaled)"
   ]
  },
  {
   "cell_type": "markdown",
   "id": "45d6124e",
   "metadata": {},
   "source": [
    "# Maschera booleana delle feature mantenute"
   ]
  },
  {
   "cell_type": "code",
   "execution_count": null,
   "id": "597965b3",
   "metadata": {},
   "outputs": [],
   "source": [
    "constant_mask = selector.get_support()"
   ]
  },
  {
   "cell_type": "markdown",
   "id": "6526a41d",
   "metadata": {},
   "source": [
    "# Identificazione delle feature eliminate"
   ]
  },
  {
   "cell_type": "code",
   "execution_count": null,
   "id": "a73e986f",
   "metadata": {},
   "outputs": [],
   "source": [
    "dropped_features = list(X_train_scaled.columns[~constant_mask])\n",
    "print(\"Feature eliminate (costanti):\", dropped_features)"
   ]
  },
  {
   "cell_type": "markdown",
   "id": "79fb6e0e",
   "metadata": {},
   "source": [
    "## Oversampling (SMOTE)"
   ]
  },
  {
   "cell_type": "markdown",
   "id": "2f0cf4c2",
   "metadata": {},
   "source": [
    "# Installazione imbalanced-learn se non già presente"
   ]
  },
  {
   "cell_type": "code",
   "execution_count": null,
   "id": "c6e45424",
   "metadata": {},
   "outputs": [],
   "source": [
    "!pip install -U imbalanced-learn"
   ]
  },
  {
   "cell_type": "markdown",
   "id": "e055eb8a",
   "metadata": {},
   "source": [
    "## Oversampling (SMOTE)"
   ]
  },
  {
   "cell_type": "markdown",
   "id": "63d4d4e7",
   "metadata": {},
   "source": [
    "## Oversampling (SMOTE)"
   ]
  },
  {
   "cell_type": "markdown",
   "id": "4a9345d4",
   "metadata": {},
   "source": [
    "## Oversampling (SMOTE)"
   ]
  },
  {
   "cell_type": "markdown",
   "id": "4e838041",
   "metadata": {},
   "source": [
    "## Oversampling (SMOTE)"
   ]
  },
  {
   "cell_type": "markdown",
   "id": "1f2a615a",
   "metadata": {},
   "source": [
    "## Oversampling (SMOTE)"
   ]
  },
  {
   "cell_type": "markdown",
   "id": "29220eba",
   "metadata": {},
   "source": [
    "## Oversampling (SMOTE)"
   ]
  },
  {
   "cell_type": "markdown",
   "id": "10e6c3c8",
   "metadata": {},
   "source": [
    "## Oversampling (SMOTE)"
   ]
  },
  {
   "cell_type": "markdown",
   "id": "0dfd7f75",
   "metadata": {},
   "source": [
    "## Salvataggio artefatti"
   ]
  },
  {
   "cell_type": "code",
   "execution_count": null,
   "id": "b32e93c2",
   "metadata": {},
   "outputs": [],
   "source": [
    "import joblib\n",
    "import pandas as pd"
   ]
  },
  {
   "cell_type": "markdown",
   "id": "d3a7063c",
   "metadata": {},
   "source": [
    "# Salvataggio dataset di training e test"
   ]
  },
  {
   "cell_type": "markdown",
   "id": "4cd430c4",
   "metadata": {},
   "source": [
    "## Oversampling (SMOTE)"
   ]
  },
  {
   "cell_type": "markdown",
   "id": "0fa7ce05",
   "metadata": {},
   "source": [
    "## Oversampling (SMOTE)"
   ]
  },
  {
   "cell_type": "code",
   "execution_count": null,
   "id": "645b45f4",
   "metadata": {},
   "outputs": [],
   "source": [
    "train_df.to_csv(\"/content/train_preprocessed.csv\", index=False)\n",
    "test_df = pd.DataFrame(X_test_scaled, columns=X_train_scaled.columns)\n",
    "test_df['target'] = y_test\n",
    "test_df.to_csv(\"/content/test_preprocessed.csv\", index=False)"
   ]
  },
  {
   "cell_type": "markdown",
   "id": "be0dc31a",
   "metadata": {},
   "source": [
    "# Salvataggio dello scaler"
   ]
  },
  {
   "cell_type": "code",
   "execution_count": null,
   "id": "c3063ae7",
   "metadata": {},
   "outputs": [],
   "source": [
    "joblib.dump(scaler, \"/content/scaler.pkl\")"
   ]
  },
  {
   "cell_type": "markdown",
   "id": "8792501e",
   "metadata": {},
   "source": [
    "# Salvataggio della lista delle feature"
   ]
  },
  {
   "cell_type": "code",
   "execution_count": null,
   "id": "afd5c055",
   "metadata": {},
   "outputs": [],
   "source": [
    "joblib.dump(list(X_train_scaled.columns), \"/content/features_list.pkl\")\n",
    "print(\"[INFO] Artefatti salvati con successo:\")\n",
    "print(\"- train_preprocessed.csv\")\n",
    "print(\"- test_preprocessed.csv\")\n",
    "print(\"- scaler.pkl\")\n",
    "print(\"- features_list.pkl\")"
   ]
  },
  {
   "cell_type": "markdown",
   "id": "3416addd",
   "metadata": {},
   "source": [
    "## Download artefatti"
   ]
  },
  {
   "cell_type": "code",
   "execution_count": null,
   "id": "e539e6cd",
   "metadata": {},
   "outputs": [],
   "source": [
    "from google.colab import files\n",
    "files.download(\"/content/train_preprocessed.csv\")\n",
    "files.download(\"/content/test_preprocessed.csv\")\n",
    "files.download(\"/content/scaler.pkl\")\n",
    "files.download(\"/content/features_list.pkl\")"
   ]
  },
  {
   "cell_type": "markdown",
   "id": "b4cfe0d1",
   "metadata": {},
   "source": [
    "# Modulo Predittivo — Random Forest"
   ]
  },
  {
   "cell_type": "markdown",
   "id": "6ca8877c",
   "metadata": {},
   "source": [
    "## Setup ambiente (librerie + cartelle)"
   ]
  },
  {
   "cell_type": "code",
   "execution_count": null,
   "id": "cc16c8a8",
   "metadata": {},
   "outputs": [],
   "source": [
    "!pip install xgboost joblib pyarrow fastparquet --quiet\n",
    "import os, json, joblib, pathlib, datetime, numpy as np, pandas as pd\n",
    "import matplotlib.pyplot as plt\n",
    "from sklearn.model_selection import StratifiedKFold, RandomizedSearchCV, cross_validate\n",
    "from sklearn.metrics import (roc_auc_score, roc_curve, precision_recall_curve,"
   ]
  },
  {
   "cell_type": "markdown",
   "id": "5707a33d",
   "metadata": {},
   "source": [
    "classification_report, confusion_matrix, auc,"
   ]
  },
  {
   "cell_type": "code",
   "execution_count": null,
   "id": "351bee52",
   "metadata": {},
   "outputs": [],
   "source": [
    "precision_score, recall_score, f1_score)\n",
    "from sklearn.ensemble import RandomForestClassifier\n",
    "from xgboost import XGBClassifier\n",
    "np.random.seed(42)\n",
    "# Dove salva output e figure (in Colab locale)\n",
    "RUN_ID   = datetime.datetime.now().strftime(\"%Y%m%d-%H%M%S\")\n",
    "BASE_OUT = pathlib.Path(f\"./artifacts/{RUN_ID}\")\n",
    "(BASE_OUT / \"random_forest\").mkdir(parents=True, exist_ok=True)\n",
    "(BASE_OUT / \"xgboost\").mkdir(parents=True, exist_ok=True)\n",
    "print(\"Run folder:\", BASE_OUT)"
   ]
  },
  {
   "cell_type": "markdown",
   "id": "dc163f17",
   "metadata": {},
   "source": [
    "## Caricamento artefatti"
   ]
  },
  {
   "cell_type": "code",
   "execution_count": null,
   "id": "e81b8f74",
   "metadata": {},
   "outputs": [],
   "source": [
    "from google.colab import files\n",
    "uploaded = files.upload()  # seleziona qui i 4 file dal tuo PC\n",
    "# Riconoscere i file caricati in modo robusto (anche se hanno suffissi diversi)\n",
    "def pick(name_contains, exts=(\".csv\",\".pkl\",\".joblib\")):\n",
    "for k in uploaded.keys():\n",
    "if name_contains in k and k.endswith(exts):\n",
    "return k\n",
    "raise ValueError(f\"File con '{name_contains}' non trovato tra: {list(uploaded.keys())}\")\n",
    "train_path  = pick(\"train_preprocessed\", exts=(\".csv\",))\n",
    "test_path   = pick(\"test_preprocessed\",  exts=(\".csv\",))\n",
    "scaler_path = pick(\"scaler\",             exts=(\".pkl\",\".joblib\"))\n",
    "feat_path   = pick(\"features\",           exts=(\".pkl\",\".joblib\"))\n",
    "print(\"Train CSV: \", train_path)\n",
    "print(\"Test  CSV: \", test_path)\n",
    "print(\"Scaler:    \", scaler_path)\n",
    "print(\"Features:  \", feat_path)\n",
    "import pandas as pd, joblib, pickle, numpy as np"
   ]
  },
  {
   "cell_type": "markdown",
   "id": "fea4b10c",
   "metadata": {},
   "source": [
    "# 1) Leggere  CSV"
   ]
  },
  {
   "cell_type": "code",
   "execution_count": null,
   "id": "faae94bb",
   "metadata": {},
   "outputs": [],
   "source": [
    "train_df = pd.read_csv(train_path)\n",
    "test_df  = pd.read_csv(test_path)"
   ]
  },
  {
   "cell_type": "markdown",
   "id": "ccb11b9c",
   "metadata": {},
   "source": [
    "# 2) Caricare scaler"
   ]
  },
  {
   "cell_type": "code",
   "execution_count": null,
   "id": "bc5cc14e",
   "metadata": {},
   "outputs": [],
   "source": [
    "try:\n",
    "scaler = joblib.load(scaler_path)\n",
    "except:\n",
    "with open(scaler_path, \"rb\") as f:\n",
    "scaler = pickle.load(f)"
   ]
  },
  {
   "cell_type": "markdown",
   "id": "0df20eb3",
   "metadata": {},
   "source": [
    "# 3) Caricare lista feature"
   ]
  },
  {
   "cell_type": "code",
   "execution_count": null,
   "id": "27e70536",
   "metadata": {},
   "outputs": [],
   "source": [
    "try:\n",
    "feature_names = joblib.load(feat_path)\n",
    "except:\n",
    "with open(feat_path, \"rb\") as f:\n",
    "feature_names = pickle.load(f)\n",
    "print(\"Train shape:\", train_df.shape, \"Test shape:\", test_df.shape)\n",
    "print(\"Prime colonne:\", train_df.columns.tolist()[:8])\n",
    "print(\"N. feature dichiarate:\", len(feature_names))"
   ]
  },
  {
   "cell_type": "markdown",
   "id": "839b1beb",
   "metadata": {},
   "source": [
    "## Separazione X / y"
   ]
  },
  {
   "cell_type": "markdown",
   "id": "ccfdc510",
   "metadata": {},
   "source": [
    "# individuare target"
   ]
  },
  {
   "cell_type": "code",
   "execution_count": null,
   "id": "b7543840",
   "metadata": {},
   "outputs": [],
   "source": [
    "possible_y = [\"target\", \"HeartDiseaseorAttack\", \"HeartDisease\"]\n",
    "y_col = next((c for c in possible_y if c in train_df.columns), None)\n",
    "assert y_col is not None, f\"Colonna target non trovata. Disponibili: {train_df.columns.tolist()}\"\n",
    "print(\"Target column:\", y_col)"
   ]
  },
  {
   "cell_type": "markdown",
   "id": "62464e96",
   "metadata": {},
   "source": [
    "# normalizzare {2:0} se necessario"
   ]
  },
  {
   "cell_type": "code",
   "execution_count": null,
   "id": "9bf37512",
   "metadata": {},
   "outputs": [],
   "source": [
    "def normalize_y(s):\n",
    "s = pd.Series(s).astype(int)\n",
    "return s.replace({2:0}).values\n",
    "y_train = normalize_y(train_df[y_col])\n",
    "y_test  = normalize_y(test_df[y_col])"
   ]
  },
  {
   "cell_type": "markdown",
   "id": "8603e8ad",
   "metadata": {},
   "source": [
    "# usare solo le feature presenti sia nella lista che nel dataframe"
   ]
  },
  {
   "cell_type": "code",
   "execution_count": null,
   "id": "49802c32",
   "metadata": {},
   "outputs": [],
   "source": [
    "feature_set = [c for c in feature_names if c in train_df.columns]\n",
    "X_train = train_df[feature_set].values\n",
    "X_test  = test_df[feature_set].values\n",
    "print(\"X_train:\", X_train.shape, \"X_test:\", X_test.shape)\n",
    "print(\"Positivi train (%):\", round(100*np.mean(y_train), 2), \" — Positivi test (%):\", round(100*np.mean(y_test), 2))"
   ]
  },
  {
   "cell_type": "markdown",
   "id": "eaa899a2",
   "metadata": {},
   "source": [
    "4) VALIDAZIONE INCROCIATA E FUNZIONI DI VALUTAZIONE"
   ]
  },
  {
   "cell_type": "code",
   "execution_count": null,
   "id": "573b8ffd",
   "metadata": {},
   "outputs": [],
   "source": [
    "cv = StratifiedKFold(n_splits=5, shuffle=True, random_state=42)\n",
    "def evaluate_on_test(model_name, y_true, y_proba, out_dir):\n",
    "out_dir.mkdir(parents=True, exist_ok=True)"
   ]
  },
  {
   "cell_type": "markdown",
   "id": "b82a7319",
   "metadata": {},
   "source": [
    "# Pred a soglia 0.5"
   ]
  },
  {
   "cell_type": "code",
   "execution_count": null,
   "id": "c5816ab4",
   "metadata": {},
   "outputs": [],
   "source": [
    "y_pred = (y_proba >= 0.5).astype(int)"
   ]
  },
  {
   "cell_type": "markdown",
   "id": "d0823a4e",
   "metadata": {},
   "source": [
    "# Metriche principali"
   ]
  },
  {
   "cell_type": "code",
   "execution_count": null,
   "id": "11aa38b2",
   "metadata": {},
   "outputs": [],
   "source": [
    "metrics = {"
   ]
  },
  {
   "cell_type": "markdown",
   "id": "477f589b",
   "metadata": {},
   "source": [
    "\"threshold\": 0.5,"
   ]
  },
  {
   "cell_type": "code",
   "execution_count": null,
   "id": "bd956174",
   "metadata": {},
   "outputs": [],
   "source": [
    "\"accuracy\": float((y_pred == y_true).mean()),"
   ]
  },
  {
   "cell_type": "markdown",
   "id": "ce5d69ff",
   "metadata": {},
   "source": [
    "\"roc_auc\": float(roc_auc_score(y_true, y_proba)),\n",
    "\"precision\": float(precision_score(y_true, y_pred, zero_division=0)),\n",
    "\"recall\": float(recall_score(y_true, y_pred, zero_division=0)),"
   ]
  },
  {
   "cell_type": "code",
   "execution_count": null,
   "id": "3ad2156b",
   "metadata": {},
   "outputs": [],
   "source": [
    "\"f1\": float(f1_score(y_true, y_pred, zero_division=0))"
   ]
  },
  {
   "cell_type": "markdown",
   "id": "07e0810b",
   "metadata": {},
   "source": [
    "}\n",
    "# Report + CM"
   ]
  },
  {
   "cell_type": "code",
   "execution_count": null,
   "id": "2a5876f9",
   "metadata": {},
   "outputs": [],
   "source": [
    "report_dict = classification_report(y_true, y_pred, output_dict=True, zero_division=0)\n",
    "cm = confusion_matrix(y_true, y_pred)"
   ]
  },
  {
   "cell_type": "markdown",
   "id": "fbaae1e1",
   "metadata": {},
   "source": [
    "# ROC figure"
   ]
  },
  {
   "cell_type": "code",
   "execution_count": null,
   "id": "8a2b984f",
   "metadata": {},
   "outputs": [],
   "source": [
    "fpr, tpr, _ = roc_curve(y_true, y_proba)\n",
    "roc_auc_val = auc(fpr, tpr)\n",
    "plt.figure()\n",
    "plt.plot(fpr, tpr, label=f\"AUC = {roc_auc_val:.3f}\")\n",
    "plt.plot([0,1],[0,1],'--',linewidth=1)\n",
    "plt.xlabel(\"False Positive Rate\"); plt.ylabel(\"True Positive Rate\")\n",
    "plt.title(f\"ROC - {model_name}\")\n",
    "plt.legend(loc=\"lower right\")\n",
    "plt.tight_layout(); plt.savefig(out_dir / \"roc_curve.png\", dpi=150); plt.close()"
   ]
  },
  {
   "cell_type": "markdown",
   "id": "47ec1903",
   "metadata": {},
   "source": [
    "# PR figure"
   ]
  },
  {
   "cell_type": "code",
   "execution_count": null,
   "id": "f95f740b",
   "metadata": {},
   "outputs": [],
   "source": [
    "prec, rec, _ = precision_recall_curve(y_true, y_proba)\n",
    "pr_auc_val = auc(rec, prec)\n",
    "plt.figure()\n",
    "plt.plot(rec, prec, label=f\"PR AUC = {pr_auc_val:.3f}\")\n",
    "plt.xlabel(\"Recall\"); plt.ylabel(\"Precision\")\n",
    "plt.title(f\"Precision-Recall - {model_name}\")\n",
    "plt.legend(loc=\"lower left\")\n",
    "plt.tight_layout(); plt.savefig(out_dir / \"pr_curve.png\", dpi=150); plt.close()"
   ]
  },
  {
   "cell_type": "markdown",
   "id": "9e96b6c3",
   "metadata": {},
   "source": [
    "# Aggiunta PR AUC alle metriche salvate"
   ]
  },
  {
   "cell_type": "code",
   "execution_count": null,
   "id": "29e08eb9",
   "metadata": {},
   "outputs": [],
   "source": [
    "metrics[\"pr_auc\"] = float(pr_auc_val)"
   ]
  },
  {
   "cell_type": "markdown",
   "id": "832f439a",
   "metadata": {},
   "source": [
    "# Salvataggi"
   ]
  },
  {
   "cell_type": "code",
   "execution_count": null,
   "id": "09b3bf2f",
   "metadata": {},
   "outputs": [],
   "source": [
    "with open(out_dir / \"metrics.json\", \"w\") as f:\n",
    "json.dump({**metrics,"
   ]
  },
  {
   "cell_type": "markdown",
   "id": "5ec12424",
   "metadata": {},
   "source": [
    "\"classification_report\": report_dict,"
   ]
  },
  {
   "cell_type": "code",
   "execution_count": null,
   "id": "6f64f18b",
   "metadata": {},
   "outputs": [],
   "source": [
    "\"confusion_matrix\": cm.tolist()}, f, indent=2)"
   ]
  },
  {
   "cell_type": "markdown",
   "id": "ad93c883",
   "metadata": {},
   "source": [
    "# CSV utili"
   ]
  },
  {
   "cell_type": "code",
   "execution_count": null,
   "id": "80546bb7",
   "metadata": {},
   "outputs": [],
   "source": [
    "pd.DataFrame(cm, index=[\"Actual_0\",\"Actual_1\"], columns=[\"Pred_0\",\"Pred_1\"])\\\n",
    ".to_csv(out_dir / \"confusion_matrix.csv\")\n",
    "pd.DataFrame(report_dict).to_csv(out_dir / \"classification_report.csv\")\n",
    "return metrics"
   ]
  },
  {
   "cell_type": "markdown",
   "id": "cb3878d9",
   "metadata": {},
   "source": [
    "## Random Forest — ricerca, training e valutazione"
   ]
  },
  {
   "cell_type": "code",
   "execution_count": null,
   "id": "aa4aa9b3",
   "metadata": {},
   "outputs": [],
   "source": [
    "rf = RandomForestClassifier(random_state=42, n_jobs=-1)\n",
    "rf_param_dist = {"
   ]
  },
  {
   "cell_type": "markdown",
   "id": "43b0eb11",
   "metadata": {},
   "source": [
    "\"n_estimators\":       np.arange(200, 601, 50),\n",
    "\"max_depth\":          [None] + list(range(4, 21, 2)),\n",
    "\"min_samples_split\":  [2, 5, 10, 20],\n",
    "\"min_samples_leaf\":   [1, 2, 4, 8],\n",
    "\"max_features\":       [\"sqrt\", None, 0.5]\n",
    "}"
   ]
  },
  {
   "cell_type": "code",
   "execution_count": null,
   "id": "2defb982",
   "metadata": {},
   "outputs": [],
   "source": [
    "rf_search = RandomizedSearchCV("
   ]
  },
  {
   "cell_type": "markdown",
   "id": "ab16bc64",
   "metadata": {},
   "source": [
    "estimator=rf,\n",
    "param_distributions=rf_param_dist,\n",
    "n_iter=25,\n",
    "scoring=\"f1\",\n",
    "cv=cv,\n",
    "n_jobs=-1,\n",
    "random_state=42,\n",
    "verbose=1"
   ]
  },
  {
   "cell_type": "code",
   "execution_count": null,
   "id": "2a6d74b3",
   "metadata": {},
   "outputs": [],
   "source": [
    ")\n",
    "rf_search.fit(X_train, y_train)\n",
    "rf_best = rf_search.best_estimator_\n",
    "print(\"RF best params:\", rf_search.best_params_)\n",
    "# CV informativa (multi-metrica)\n",
    "scoring = {\"roc_auc\":\"roc_auc\", \"precision\":\"precision\", \"recall\":\"recall\", \"f1\":\"f1\"}\n",
    "rf_cv = cross_validate(rf_best, X_train, y_train, cv=cv, scoring=scoring, n_jobs=-1, return_train_score=False)\n",
    "print({m: (rf_cv[\"test_\"+m].mean(), rf_cv[\"test_\"+m].std()) for m in scoring})"
   ]
  },
  {
   "cell_type": "markdown",
   "id": "6d336ccf",
   "metadata": {},
   "source": [
    "# Fit finale + test"
   ]
  },
  {
   "cell_type": "code",
   "execution_count": null,
   "id": "93e86e4e",
   "metadata": {},
   "outputs": [],
   "source": [
    "rf_best.fit(X_train, y_train)\n",
    "rf_proba_test = rf_best.predict_proba(X_test)[:,1]"
   ]
  },
  {
   "cell_type": "markdown",
   "id": "954f5fdb",
   "metadata": {},
   "source": [
    "# Salvataggi"
   ]
  },
  {
   "cell_type": "code",
   "execution_count": null,
   "id": "61896cf8",
   "metadata": {},
   "outputs": [],
   "source": [
    "joblib.dump(rf_best, BASE_OUT / \"random_forest\" / \"random_forest.joblib\")\n",
    "rf_metrics = evaluate_on_test(\"random_forest\", y_test, rf_proba_test, BASE_OUT / \"random_forest\")\n",
    "with open(BASE_OUT / \"random_forest\" / \"cv_summary.json\",\"w\") as f:\n",
    "json.dump({m: {\"mean\": float(rf_cv[\"test_\"+m].mean()), \"std\": float(rf_cv[\"test_\"+m].std())} for m in scoring}, f, indent=2)\n",
    "print(\"RF test metrics:\", rf_metrics)"
   ]
  },
  {
   "cell_type": "markdown",
   "id": "ca6d1390",
   "metadata": {},
   "source": [
    "### Patch salvataggi best_params_"
   ]
  },
  {
   "cell_type": "markdown",
   "id": "7155137c",
   "metadata": {},
   "source": [
    "# PATCH salvataggi \"robusti\" e consistenti"
   ]
  },
  {
   "cell_type": "code",
   "execution_count": null,
   "id": "5fd10b9e",
   "metadata": {},
   "outputs": [],
   "source": [
    "import json, joblib, numpy as np, pandas as pd, matplotlib.pyplot as plt\n",
    "from pathlib import Path\n",
    "from sklearn.metrics import classification_report, confusion_matrix, roc_auc_score, roc_curve, precision_recall_curve, auc\n",
    "out_dir = Path(\"rf_results\")\n",
    "out_dir.mkdir(exist_ok=True)"
   ]
  },
  {
   "cell_type": "markdown",
   "id": "3948a64f",
   "metadata": {},
   "source": [
    "# best_params_ in tipi Python \"puri\""
   ]
  },
  {
   "cell_type": "code",
   "execution_count": null,
   "id": "81576296",
   "metadata": {},
   "outputs": [],
   "source": [
    "def to_py(obj):\n",
    "if isinstance(obj, (np.integer,)):  return int(obj)\n",
    "if isinstance(obj, (np.floating,)): return float(obj)\n",
    "if isinstance(obj, (np.bool_,)):    return bool(obj)\n",
    "return obj\n",
    "best_params_py = {k: to_py(v) for k, v in rf_search.best_params_.items()}\n",
    "# Salvataggio modello + iperparametri (usa rf_best, non best_rf)\n",
    "joblib.dump(rf_best, out_dir / \"random_forest_model.pkl\")\n",
    "with open(out_dir / \"best_params.json\", \"w\") as f:\n",
    "json.dump(best_params_py, f, indent=2)\n",
    "# Ricalcolare pred, cm, report e curve sul test (riuso y_test / rf_proba_test)\n",
    "y_prob = rf_proba_test\n",
    "y_pred = (y_prob >= 0.5).astype(int)\n",
    "cm = confusion_matrix(y_test, y_pred)\n",
    "roc_auc = float(roc_auc_score(y_test, y_prob))\n",
    "report_dict = classification_report(y_test, y_pred, output_dict=True, zero_division=0)"
   ]
  },
  {
   "cell_type": "markdown",
   "id": "1c08353c",
   "metadata": {},
   "source": [
    "# ROC"
   ]
  },
  {
   "cell_type": "code",
   "execution_count": null,
   "id": "18f950fb",
   "metadata": {},
   "outputs": [],
   "source": [
    "fpr, tpr, _ = roc_curve(y_test, y_prob)\n",
    "plt.figure(figsize=(6,5))\n",
    "plt.plot(fpr, tpr, label=f\"AUC = {auc(fpr,tpr):.3f}\")\n",
    "plt.plot([0,1],[0,1],'--',linewidth=1)\n",
    "plt.xlabel(\"False Positive Rate\"); plt.ylabel(\"True Positive Rate\"); plt.title(\"ROC - Random Forest\"); plt.legend()\n",
    "plt.tight_layout(); plt.savefig(out_dir / \"roc_curve.png\", dpi=150); plt.close()"
   ]
  },
  {
   "cell_type": "markdown",
   "id": "d2bb8795",
   "metadata": {},
   "source": [
    "# PR"
   ]
  },
  {
   "cell_type": "code",
   "execution_count": null,
   "id": "84f4fbb0",
   "metadata": {},
   "outputs": [],
   "source": [
    "prec, rec, _ = precision_recall_curve(y_test, y_prob)\n",
    "plt.figure(figsize=(6,5))\n",
    "plt.plot(rec, prec, label=f\"PR AUC = {auc(rec,prec):.3f}\")\n",
    "plt.xlabel(\"Recall\"); plt.ylabel(\"Precision\"); plt.title(\"Precision-Recall - Random Forest\"); plt.legend()\n",
    "plt.tight_layout(); plt.savefig(out_dir / \"pr_curve.png\", dpi=150); plt.close()"
   ]
  },
  {
   "cell_type": "markdown",
   "id": "e807692b",
   "metadata": {},
   "source": [
    "#  Salvataggi JSON/CSV"
   ]
  },
  {
   "cell_type": "code",
   "execution_count": null,
   "id": "f05c6a3c",
   "metadata": {},
   "outputs": [],
   "source": [
    "with open(out_dir / \"metrics.json\", \"w\") as f:\n",
    "json.dump({"
   ]
  },
  {
   "cell_type": "markdown",
   "id": "5fd210fd",
   "metadata": {},
   "source": [
    "\"threshold\": 0.5,"
   ]
  },
  {
   "cell_type": "code",
   "execution_count": null,
   "id": "a5ed1652",
   "metadata": {},
   "outputs": [],
   "source": [
    "\"accuracy\": float((y_pred == y_test).mean()),"
   ]
  },
  {
   "cell_type": "markdown",
   "id": "d1239bcb",
   "metadata": {},
   "source": [
    "\"roc_auc\": roc_auc,\n",
    "\"precision\": float(precision_score(y_test, y_pred, zero_division=0)),\n",
    "\"recall\": float(recall_score(y_test, y_pred, zero_division=0)),\n",
    "\"f1\": float(f1_score(y_test, y_pred, zero_division=0)),\n",
    "\"classification_report\": report_dict,"
   ]
  },
  {
   "cell_type": "code",
   "execution_count": null,
   "id": "64aa9ca2",
   "metadata": {},
   "outputs": [],
   "source": [
    "\"confusion_matrix\": cm.tolist()\n",
    "}, f, indent=2)\n",
    "pd.DataFrame(cm, index=[\"Actual_0\",\"Actual_1\"], columns=[\"Pred_0\",\"Pred_1\"]).to_csv(out_dir / \"confusion_matrix.csv\")\n",
    "pd.DataFrame(report_dict).to_csv(out_dir / \"classification_report.csv\")\n",
    "print(\" Salvataggi completati in:\", out_dir)"
   ]
  },
  {
   "cell_type": "markdown",
   "id": "f0659b81",
   "metadata": {},
   "source": [
    "### Migliorare il recall senza leakage"
   ]
  },
  {
   "cell_type": "markdown",
   "id": "30370feb",
   "metadata": {},
   "source": [
    "## Oversampling (SMOTE)"
   ]
  },
  {
   "cell_type": "code",
   "execution_count": null,
   "id": "0decb1a5",
   "metadata": {},
   "outputs": [],
   "source": [
    "from sklearn.model_selection import train_test_split\n",
    "from sklearn.metrics import precision_score, recall_score, f1_score, confusion_matrix, classification_report, roc_curve, precision_recall_curve, auc\n",
    "import numpy as np, json\n",
    "from pathlib import Path\n",
    "import matplotlib.pyplot as plt"
   ]
  },
  {
   "cell_type": "markdown",
   "id": "2b072bba",
   "metadata": {},
   "source": [
    "# Cartella risultati RF già usata"
   ]
  },
  {
   "cell_type": "code",
   "execution_count": null,
   "id": "49313516",
   "metadata": {},
   "outputs": [],
   "source": [
    "OUT = Path(\"rf_results\")\n",
    "# 1A) Split del test in validation e test finale (stessa distribuzione, niente leakage)\n",
    "X_val, X_test_final, y_val, y_test_final = train_test_split(\n",
    "X_test, y_test, test_size=0.5, stratify=y_test, random_state=42\n",
    ")"
   ]
  },
  {
   "cell_type": "markdown",
   "id": "60a76819",
   "metadata": {},
   "source": [
    "# 1B) Probabilità sul validation e scelta soglia"
   ]
  },
  {
   "cell_type": "code",
   "execution_count": null,
   "id": "6ca805ea",
   "metadata": {},
   "outputs": [],
   "source": [
    "y_val_prob = rf_best.predict_proba(X_val)[:,1]\n",
    "def choose_threshold(y_true, y_score, metric=\"recall\", min_precision=None, max_fpr=None):\n",
    "thresholds = np.linspace(0.05, 0.95, 181)\n",
    "best_t, best_val = 0.5, -1\n",
    "for t in thresholds:\n",
    "y_pred = (y_score >= t).astype(int)\n",
    "tp = ((y_true==1)&(y_pred==1)).sum()\n",
    "fp = ((y_true==0)&(y_pred==1)).sum()\n",
    "fn = ((y_true==1)&(y_pred==0)).sum()\n",
    "tn = ((y_true==0)&(y_pred==0)).sum()\n",
    "prec = tp / (tp+fp) if (tp+fp)>0 else 0.0\n",
    "rec  = tp / (tp+fn) if (tp+fn)>0 else 0.0\n",
    "fpr  = fp / (fp+tn) if (fp+tn)>0 else 0.0\n",
    "if min_precision is not None and prec < min_precision:"
   ]
  },
  {
   "cell_type": "markdown",
   "id": "59b91edb",
   "metadata": {},
   "source": [
    "continue"
   ]
  },
  {
   "cell_type": "code",
   "execution_count": null,
   "id": "b9cc7169",
   "metadata": {},
   "outputs": [],
   "source": [
    "if max_fpr is not None and fpr > max_fpr:"
   ]
  },
  {
   "cell_type": "markdown",
   "id": "0705c2c4",
   "metadata": {},
   "source": [
    "continue"
   ]
  },
  {
   "cell_type": "code",
   "execution_count": null,
   "id": "5eab9ba0",
   "metadata": {},
   "outputs": [],
   "source": [
    "# metrica di ottimizzazione (qui massimizziamo il Recall)\n",
    "val = rec if metric==\"recall\" else (2*prec*rec/(prec+rec) if (prec+rec)>0 else 0.0)\n",
    "if val > best_val:\n",
    "best_val, best_t = val, float(t)\n",
    "return best_t, best_val"
   ]
  },
  {
   "cell_type": "markdown",
   "id": "24730e6e",
   "metadata": {},
   "source": [
    "# Esempio: massimizza Recall mantenendo Precision almeno 0.25"
   ]
  },
  {
   "cell_type": "code",
   "execution_count": null,
   "id": "fa8c9b13",
   "metadata": {},
   "outputs": [],
   "source": [
    "t_opt, best_recall = choose_threshold(y_val, y_val_prob, metric=\"recall\", min_precision=0.25)\n",
    "print(f\"Soglia scelta su validation: {t_opt:.3f}  |  Recall(validation)={best_recall:.3f}\")\n",
    "# Valutazione sul test finale (quello \"vero\")\n",
    "y_test_final_prob = rf_best.predict_proba(X_test_final)[:,1]\n",
    "y_test_final_pred_default = (y_test_final_prob >= 0.5).astype(int)\n",
    "y_test_final_pred_opt     = (y_test_final_prob >= t_opt).astype(int)\n",
    "def summarize(y_true, y_pred, y_score):\n",
    "pr, rc, f1 = precision_score(y_true, y_pred, zero_division=0), recall_score(y_true, y_pred, zero_division=0), f1_score(y_true, y_pred, zero_division=0)\n",
    "cm = confusion_matrix(y_true, y_pred)\n",
    "fpr, tpr, _ = roc_curve(y_true, y_score)\n",
    "return {"
   ]
  },
  {
   "cell_type": "markdown",
   "id": "fdaf54bf",
   "metadata": {},
   "source": [
    "\"precision\": float(pr),\n",
    "\"recall\":    float(rc),\n",
    "\"f1\":        float(f1),\n",
    "\"cm\":        cm.tolist(),"
   ]
  },
  {
   "cell_type": "code",
   "execution_count": null,
   "id": "9b13602a",
   "metadata": {},
   "outputs": [],
   "source": [
    "\"roc_auc\":   float(auc(fpr, tpr))"
   ]
  },
  {
   "cell_type": "markdown",
   "id": "6ecfd220",
   "metadata": {},
   "source": [
    "}"
   ]
  },
  {
   "cell_type": "code",
   "execution_count": null,
   "id": "e8eee8ee",
   "metadata": {},
   "outputs": [],
   "source": [
    "metrics_default = summarize(y_test_final, y_test_final_pred_default, y_test_final_prob)\n",
    "metrics_opt     = summarize(y_test_final, y_test_final_pred_opt,     y_test_final_prob)\n",
    "print(\"== Test finale (soglia 0.5)  ==>\", metrics_default)\n",
    "print(\"== Test finale (soglia opt.)  ==>\", metrics_opt)"
   ]
  },
  {
   "cell_type": "markdown",
   "id": "2eeae32b",
   "metadata": {},
   "source": [
    "# Salva tutto"
   ]
  },
  {
   "cell_type": "code",
   "execution_count": null,
   "id": "f85c025b",
   "metadata": {},
   "outputs": [],
   "source": [
    "with open(OUT / \"threshold_selection.json\", \"w\") as f:\n",
    "json.dump({"
   ]
  },
  {
   "cell_type": "markdown",
   "id": "cab76743",
   "metadata": {},
   "source": [
    "\"validation_threshold\": t_opt,"
   ]
  },
  {
   "cell_type": "code",
   "execution_count": null,
   "id": "7eaf77a8",
   "metadata": {},
   "outputs": [],
   "source": [
    "\"validation_constraint\": \"maximize recall with precision >= 0.25\","
   ]
  },
  {
   "cell_type": "markdown",
   "id": "bff8c07a",
   "metadata": {},
   "source": [
    "\"test_final_metrics_default\": metrics_default,\n",
    "\"test_final_metrics_opt\": metrics_opt"
   ]
  },
  {
   "cell_type": "code",
   "execution_count": null,
   "id": "7fbf5d42",
   "metadata": {},
   "outputs": [],
   "source": [
    "}, f, indent=2)"
   ]
  },
  {
   "cell_type": "markdown",
   "id": "3a82e15b",
   "metadata": {},
   "source": [
    "# Grafico Precision-Recall con punto soglia"
   ]
  },
  {
   "cell_type": "code",
   "execution_count": null,
   "id": "2e8f7255",
   "metadata": {},
   "outputs": [],
   "source": [
    "prec, rec, thr = precision_recall_curve(y_test_final, y_test_final_prob)\n",
    "pr_auc = auc(rec, prec)\n",
    "plt.figure(figsize=(6,5))\n",
    "plt.plot(rec, prec, label=f\"PR curve (AUC={pr_auc:.3f})\")"
   ]
  },
  {
   "cell_type": "markdown",
   "id": "11a3aaa5",
   "metadata": {},
   "source": [
    "# punto corrispondente a t_opt"
   ]
  },
  {
   "cell_type": "code",
   "execution_count": null,
   "id": "927ba56c",
   "metadata": {},
   "outputs": [],
   "source": [
    "# (troviamo il punto più vicino a t_opt tra le soglie restituite)\n",
    "thr_full = np.r_[thr, 1.0]  # allinea dimensioni a rec/prec\n",
    "idx = (np.abs(thr_full - t_opt)).argmin()\n",
    "plt.scatter(rec[idx], prec[idx], s=60, marker=\"o\", label=f\"Soglia ottimale ~{t_opt:.2f}\")\n",
    "plt.xlabel(\"Recall\"); plt.ylabel(\"Precision\"); plt.title(\"Precision-Recall (test finale)\")\n",
    "plt.legend()\n",
    "plt.tight_layout(); plt.savefig(OUT / \"precision_recall_threshold.png\", dpi=150); plt.close()\n",
    "print(\" File salvati:\", OUT / \"threshold_selection.json\", \"e PR curve aggiornata\")"
   ]
  },
  {
   "cell_type": "markdown",
   "id": "930386f2",
   "metadata": {},
   "source": [
    "### Importanza delle feature"
   ]
  },
  {
   "cell_type": "markdown",
   "id": "5b26f9e3",
   "metadata": {},
   "source": [
    "### Importanza delle feature"
   ]
  },
  {
   "cell_type": "code",
   "execution_count": null,
   "id": "ea901474",
   "metadata": {},
   "outputs": [],
   "source": [
    "import os, json, joblib, numpy as np, pandas as pd, matplotlib.pyplot as plt\n",
    "from pathlib import Path\n",
    "OUT = Path(\"rf_results\")\n",
    "OUT.mkdir(exist_ok=True)"
   ]
  },
  {
   "cell_type": "markdown",
   "id": "cf0e491f",
   "metadata": {},
   "source": [
    "# Recupero importanze dal modello addestrato"
   ]
  },
  {
   "cell_type": "code",
   "execution_count": null,
   "id": "5adc5f11",
   "metadata": {},
   "outputs": [],
   "source": [
    "importances = rf_best.feature_importances_\n",
    "# Recupero dei nomi delle feature in modo robusto (in ordine di priorità):\n",
    "feat_names = None\n",
    "#  Se già in memoria la lista caricata dagli artefatti (features_list.pkl)\n",
    "if 'feature_names' in globals() and isinstance(feature_names, (list, tuple)) and len(feature_names) == len(importances):\n",
    "feat_names = list(feature_names)"
   ]
  },
  {
   "cell_type": "markdown",
   "id": "a23ea325",
   "metadata": {},
   "source": [
    "#  Se X_train è un DataFrame, usa le colonne"
   ]
  },
  {
   "cell_type": "code",
   "execution_count": null,
   "id": "9d664281",
   "metadata": {},
   "outputs": [],
   "source": [
    "elif 'X_train' in globals():\n",
    "try:\n",
    "import pandas as pd\n",
    "if isinstance(X_train, pd.DataFrame) and len(X_train.columns) == len(importances):\n",
    "feat_names = list(X_train.columns)\n",
    "except Exception:"
   ]
  },
  {
   "cell_type": "markdown",
   "id": "2c040e3f",
   "metadata": {},
   "source": [
    "pass\n",
    "# Se hai ancora train_df/test_df (o un df con la target), prova a dedurle"
   ]
  },
  {
   "cell_type": "code",
   "execution_count": null,
   "id": "871d1419",
   "metadata": {},
   "outputs": [],
   "source": [
    "if feat_names is None:\n",
    "for df_name in ['train_df', 'test_df']:\n",
    "if df_name in globals():\n",
    "_df = globals()[df_name]\n",
    "if isinstance(_df, pd.DataFrame):\n",
    "candidates_target = [c for c in [\"target\",\"HeartDiseaseorAttack\",\"HeartDisease\"] if c in _df.columns]\n",
    "if candidates_target:\n",
    "candidate_feats = [c for c in _df.columns if c not in candidates_target]\n",
    "else:\n",
    "candidate_feats = list(_df.columns)\n",
    "if len(candidate_feats) == len(importances):\n",
    "feat_names = candidate_feats"
   ]
  },
  {
   "cell_type": "markdown",
   "id": "1523df34",
   "metadata": {},
   "source": [
    "break"
   ]
  },
  {
   "cell_type": "code",
   "execution_count": null,
   "id": "e5cd0ce2",
   "metadata": {},
   "outputs": [],
   "source": [
    "# Se proprio non troviamo nulla, crea nomi fittizi (ma segnala)\n",
    "if feat_names is None:\n",
    "print(\"  Non sono riuscito a ricavare i nomi reali delle feature; uso nomi generici.\")\n",
    "feat_names = [f\"feat_{i}\" for i in range(len(importances))]"
   ]
  },
  {
   "cell_type": "markdown",
   "id": "89c136e9",
   "metadata": {},
   "source": [
    "# Costruzione tabella importanze e salvataggio"
   ]
  },
  {
   "cell_type": "code",
   "execution_count": null,
   "id": "5bad22ca",
   "metadata": {},
   "outputs": [],
   "source": [
    "fi = pd.DataFrame({\"feature\": feat_names, \"importance\": importances}) \\\n",
    ".sort_values(\"importance\", ascending=False)\n",
    "fi_path = OUT / \"feature_importances.csv\"\n",
    "fi.to_csv(fi_path, index=False)\n",
    "# Grafico TOP-K (barre orizzontali, solo matplotlib per massima compatibilità)\n",
    "TOPK = 15 if len(fi) >= 15 else len(fi)\n",
    "plt.figure(figsize=(8, 0.4*TOPK + 2))\n",
    "top = fi.head(TOPK)[::-1]  # reverse per barh (dal basso verso alto)\n",
    "plt.barh(top[\"feature\"], top[\"importance\"])\n",
    "plt.xlabel(\"Importance\")\n",
    "plt.title(f\"Random Forest - Top {TOPK} Feature Importances\")\n",
    "plt.tight_layout()\n",
    "plot_path = OUT / \"feature_importances_top.png\"\n",
    "plt.savefig(plot_path, dpi=150)\n",
    "plt.close()\n",
    "print(\" Salvati:\")\n",
    "print(\" -\", fi_path)\n",
    "print(\" -\", plot_path)"
   ]
  },
  {
   "cell_type": "markdown",
   "id": "494d6654",
   "metadata": {},
   "source": [
    "### Esportazione risultati RF (ZIP)"
   ]
  },
  {
   "cell_type": "code",
   "execution_count": null,
   "id": "058a45ad",
   "metadata": {},
   "outputs": [],
   "source": [
    "import shutil\n",
    "import pathlib\n",
    "from google.colab import files"
   ]
  },
  {
   "cell_type": "markdown",
   "id": "5d772cd6",
   "metadata": {},
   "source": [
    "# Percorso alla cartella della Random Forest"
   ]
  },
  {
   "cell_type": "code",
   "execution_count": null,
   "id": "b47d8458",
   "metadata": {},
   "outputs": [],
   "source": [
    "rf_out_dir = BASE_OUT / \"random_forest\""
   ]
  },
  {
   "cell_type": "markdown",
   "id": "cd538a0f",
   "metadata": {},
   "source": [
    "# Percorso zip temporaneo"
   ]
  },
  {
   "cell_type": "code",
   "execution_count": null,
   "id": "50753bbd",
   "metadata": {},
   "outputs": [],
   "source": [
    "zip_path = pathlib.Path(\"/content/random_forest_results.zip\")"
   ]
  },
  {
   "cell_type": "markdown",
   "id": "ff8eb212",
   "metadata": {},
   "source": [
    "# Crea il file zip con tutti i risultati"
   ]
  },
  {
   "cell_type": "code",
   "execution_count": null,
   "id": "7da84762",
   "metadata": {},
   "outputs": [],
   "source": [
    "shutil.make_archive(str(zip_path).replace(\".zip\", \"\"), 'zip', rf_out_dir)"
   ]
  },
  {
   "cell_type": "markdown",
   "id": "2a83590e",
   "metadata": {},
   "source": [
    "# Scarica il file sul PC"
   ]
  },
  {
   "cell_type": "code",
   "execution_count": null,
   "id": "b9dbafef",
   "metadata": {},
   "outputs": [],
   "source": [
    "files.download(zip_path)\n",
    "print(f\"File zip creato e pronto per il download: {zip_path}”)"
   ]
  },
  {
   "cell_type": "markdown",
   "id": "d67dd46d",
   "metadata": {},
   "source": [
    "# Modulo Predittivo — XGBoost"
   ]
  },
  {
   "cell_type": "code",
   "execution_count": null,
   "id": "30fa45b4",
   "metadata": {},
   "outputs": [],
   "source": [
    "# ==========================================================\n",
    "#  XGBOOST - PIPELINE COMPLETA (RICERCA, FIT, VALUTAZIONE, SALVATAGGI)\n",
    "# =========================================================="
   ]
  },
  {
   "cell_type": "markdown",
   "id": "24d78cfc",
   "metadata": {},
   "source": [
    "# !pip install xgboost joblib --quiet"
   ]
  },
  {
   "cell_type": "code",
   "execution_count": null,
   "id": "aaa71ee9",
   "metadata": {},
   "outputs": [],
   "source": [
    "import os, json, joblib, pickle, datetime, pathlib, gc\n",
    "import numpy as np\n",
    "import pandas as pd\n",
    "import matplotlib.pyplot as plt\n",
    "from pathlib import Path\n",
    "from google.colab import files\n",
    "from sklearn.metrics import ("
   ]
  },
  {
   "cell_type": "markdown",
   "id": "c881dce3",
   "metadata": {},
   "source": [
    "accuracy_score, precision_score, recall_score, f1_score,\n",
    "roc_auc_score, average_precision_score,\n",
    "roc_curve, precision_recall_curve, confusion_matrix, ConfusionMatrixDisplay,\n",
    "classification_report"
   ]
  },
  {
   "cell_type": "code",
   "execution_count": null,
   "id": "8edbc074",
   "metadata": {},
   "outputs": [],
   "source": [
    ")\n",
    "from sklearn.model_selection import RandomizedSearchCV, StratifiedKFold\n",
    "from xgboost import XGBClassifier"
   ]
  },
  {
   "cell_type": "markdown",
   "id": "9282bcc0",
   "metadata": {},
   "source": [
    "# ----------------------------------------------------------\n",
    "#  Setup esecuzione e cartelle\n",
    "# ----------------------------------------------------------"
   ]
  },
  {
   "cell_type": "code",
   "execution_count": null,
   "id": "fd0d5dae",
   "metadata": {},
   "outputs": [],
   "source": [
    "np.random.seed(42)\n",
    "RUN_ID   = datetime.datetime.now().strftime(\"%Y%m%d-%H%M%S\")\n",
    "BASE_OUT = Path(f\"./artifacts/{RUN_ID}\")\n",
    "XGB_OUT  = BASE_OUT / \"xgboost\"\n",
    "XGB_OUT.mkdir(parents=True, exist_ok=True)\n",
    "print(\" Run folder:\", BASE_OUT)"
   ]
  },
  {
   "cell_type": "markdown",
   "id": "ae71da58",
   "metadata": {},
   "source": [
    "# ----------------------------------------------------------\n",
    "# 1) Caricamento artefatti (upload dal PC) + pick robusto\n",
    "#    Attesi: train_preprocessed.csv, test_preprocessed.csv,"
   ]
  },
  {
   "cell_type": "code",
   "execution_count": null,
   "id": "158db1ad",
   "metadata": {},
   "outputs": [],
   "source": [
    "#            features_list.pkl  (scaler.pkl opzionale)"
   ]
  },
  {
   "cell_type": "markdown",
   "id": "16359ef2",
   "metadata": {},
   "source": [
    "# ----------------------------------------------------------"
   ]
  },
  {
   "cell_type": "code",
   "execution_count": null,
   "id": "f9522ce2",
   "metadata": {},
   "outputs": [],
   "source": [
    "print(\" Seleziona i file artefatto (train/test CSV + features_list.pkl; scaler.pkl opzionale)...\")\n",
    "uploaded = files.upload()\n",
    "def pick(name_contains, exts=(\".csv\",\".pkl\",\".joblib\")):\n",
    "for k in uploaded.keys():\n",
    "if name_contains in k and k.endswith(exts):\n",
    "return k\n",
    "raise ValueError(f\"File con '{name_contains}' non trovato. Presenti: {list(uploaded.keys())}\")\n",
    "train_path  = pick(\"train_preprocessed\", exts=(\".csv\",))\n",
    "test_path   = pick(\"test_preprocessed\",  exts=(\".csv\",))\n",
    "feat_path   = pick(\"features\",           exts=(\".pkl\",\".joblib\"))"
   ]
  },
  {
   "cell_type": "markdown",
   "id": "27bec120",
   "metadata": {},
   "source": [
    "# scaler è opzionale per XGBoost (tree-based), lo carichiamo solo se c'è"
   ]
  },
  {
   "cell_type": "code",
   "execution_count": null,
   "id": "992b82cb",
   "metadata": {},
   "outputs": [],
   "source": [
    "scaler_path = None\n",
    "for k in uploaded.keys():\n",
    "if (\"scaler\" in k) and k.endswith((\".pkl\",\".joblib\")):\n",
    "scaler_path = k"
   ]
  },
  {
   "cell_type": "markdown",
   "id": "ae501430",
   "metadata": {},
   "source": [
    "break"
   ]
  },
  {
   "cell_type": "code",
   "execution_count": null,
   "id": "c4b33f37",
   "metadata": {},
   "outputs": [],
   "source": [
    "print(\" Train CSV:\", train_path)\n",
    "print(\" Test  CSV:\", test_path)\n",
    "print(\" Features :\", feat_path)\n",
    "print(\" Scaler  :\", scaler_path if scaler_path else \"non usato per XGBoost\")"
   ]
  },
  {
   "cell_type": "markdown",
   "id": "edc59a54",
   "metadata": {},
   "source": [
    "# ----------------------------------------------------------\n",
    "#  Lettura CSV + feature list; costruzione X/y con controlli\n",
    "# ----------------------------------------------------------"
   ]
  },
  {
   "cell_type": "code",
   "execution_count": null,
   "id": "3278f06b",
   "metadata": {},
   "outputs": [],
   "source": [
    "train_df = pd.read_csv(train_path)\n",
    "test_df  = pd.read_csv(test_path)"
   ]
  },
  {
   "cell_type": "markdown",
   "id": "3286c022",
   "metadata": {},
   "source": [
    "# Carica lista feature"
   ]
  },
  {
   "cell_type": "code",
   "execution_count": null,
   "id": "b954a388",
   "metadata": {},
   "outputs": [],
   "source": [
    "try:\n",
    "feature_names = joblib.load(feat_path)\n",
    "except:\n",
    "with open(feat_path, \"rb\") as f:\n",
    "feature_names = pickle.load(f)\n",
    "print(\"Train shape:\", train_df.shape, \" | Test shape:\", test_df.shape)\n",
    "print(\"Prime colonne train:\", train_df.columns.tolist()[:8])\n",
    "print(\"N. feature dichiarate:\", len(feature_names))"
   ]
  },
  {
   "cell_type": "markdown",
   "id": "4947bba3",
   "metadata": {},
   "source": [
    "# Individua colonna target in modo robusto"
   ]
  },
  {
   "cell_type": "code",
   "execution_count": null,
   "id": "d6a94067",
   "metadata": {},
   "outputs": [],
   "source": [
    "possible_y = [\"target\", \"HeartDiseaseorAttack\", \"HeartDisease\"]\n",
    "y_col = next((c for c in possible_y if c in train_df.columns), None)\n",
    "assert y_col is not None, f\"Colonna target non trovata. Disponibili: {train_df.columns.tolist()}\"\n",
    "print(\" Target column:\", y_col)"
   ]
  },
  {
   "cell_type": "markdown",
   "id": "d3bb2828",
   "metadata": {},
   "source": [
    "# Normalizza target {2->0} se presente questa codifica"
   ]
  },
  {
   "cell_type": "code",
   "execution_count": null,
   "id": "2cdfe3f1",
   "metadata": {},
   "outputs": [],
   "source": [
    "def normalize_y(s):\n",
    "s = pd.Series(s).astype(int)\n",
    "return s.replace({2:0}).values\n",
    "y_train = normalize_y(train_df[y_col])\n",
    "y_test  = normalize_y(test_df[y_col])"
   ]
  },
  {
   "cell_type": "markdown",
   "id": "a215b825",
   "metadata": {},
   "source": [
    "# Seleziona solo le feature attese e presenti nei DF"
   ]
  },
  {
   "cell_type": "code",
   "execution_count": null,
   "id": "369e3dc0",
   "metadata": {},
   "outputs": [],
   "source": [
    "feature_set = [c for c in feature_names if c in train_df.columns]\n",
    "assert len(feature_set) > 0, \"Nessuna feature valida trovata nel train_df!\"\n",
    "X_train = train_df[feature_set].astype(np.float32).values\n",
    "X_test  = test_df[feature_set].astype(np.float32).values\n",
    "print(\" X_train:\", X_train.shape, \" | X_test:\", X_test.shape)\n",
    "print(\" Positivi train (%):\", round(100*np.mean(y_train), 2),\n",
    "\" — Positivi test (%):\", round(100*np.mean(y_test), 2))\n",
    "gc.collect()"
   ]
  },
  {
   "cell_type": "markdown",
   "id": "12b8a843",
   "metadata": {},
   "source": [
    "# ----------------------------------------------------------"
   ]
  },
  {
   "cell_type": "code",
   "execution_count": null,
   "id": "c4b76562",
   "metadata": {},
   "outputs": [],
   "source": [
    "#  Funzioni di valutazione + salvataggi (metriche, curve, CSV)"
   ]
  },
  {
   "cell_type": "markdown",
   "id": "87a8b76a",
   "metadata": {},
   "source": [
    "# ----------------------------------------------------------"
   ]
  },
  {
   "cell_type": "code",
   "execution_count": null,
   "id": "168555d4",
   "metadata": {},
   "outputs": [],
   "source": [
    "def evaluate_and_save(model_name, y_true, y_prob, out_dir: Path, threshold=0.5):"
   ]
  },
  {
   "cell_type": "markdown",
   "id": "fa3e5a17",
   "metadata": {},
   "source": [
    "\"\"\"\n",
    "Calcola metriche, salva JSON/CSV, plotta e salva ROC/PR/Confusion Matrix.\n",
    "Ritorna dict con metriche top-level.\n",
    "\"\"\""
   ]
  },
  {
   "cell_type": "code",
   "execution_count": null,
   "id": "fb6e85af",
   "metadata": {},
   "outputs": [],
   "source": [
    "out_dir.mkdir(parents=True, exist_ok=True)\n",
    "y_pred = (y_prob >= threshold).astype(int)"
   ]
  },
  {
   "cell_type": "markdown",
   "id": "97eaa9d6",
   "metadata": {},
   "source": [
    "# Metriche top-level"
   ]
  },
  {
   "cell_type": "code",
   "execution_count": null,
   "id": "61fbbe87",
   "metadata": {},
   "outputs": [],
   "source": [
    "metrics = {"
   ]
  },
  {
   "cell_type": "markdown",
   "id": "fda0dbd9",
   "metadata": {},
   "source": [
    "\"threshold\": float(threshold),\n",
    "\"accuracy\": float(accuracy_score(y_true, y_pred)),\n",
    "\"roc_auc\": float(roc_auc_score(y_true, y_prob)),\n",
    "\"precision\": float(precision_score(y_true, y_pred, zero_division=0)),\n",
    "\"recall\": float(recall_score(y_true, y_pred, zero_division=0)),\n",
    "\"f1\": float(f1_score(y_true, y_pred, zero_division=0)),"
   ]
  },
  {
   "cell_type": "code",
   "execution_count": null,
   "id": "011c7932",
   "metadata": {},
   "outputs": [],
   "source": [
    "\"pr_auc\": float(average_precision_score(y_true, y_prob))"
   ]
  },
  {
   "cell_type": "markdown",
   "id": "1e360e0d",
   "metadata": {},
   "source": [
    "}\n",
    "# Report esteso e CM"
   ]
  },
  {
   "cell_type": "code",
   "execution_count": null,
   "id": "3613550b",
   "metadata": {},
   "outputs": [],
   "source": [
    "report_dict = classification_report(y_true, y_pred, output_dict=True, zero_division=0)\n",
    "cm = confusion_matrix(y_true, y_pred)"
   ]
  },
  {
   "cell_type": "markdown",
   "id": "f26e9caa",
   "metadata": {},
   "source": [
    "# ROC"
   ]
  },
  {
   "cell_type": "code",
   "execution_count": null,
   "id": "b8588b8e",
   "metadata": {},
   "outputs": [],
   "source": [
    "fpr, tpr, _ = roc_curve(y_true, y_prob)\n",
    "plt.figure()\n",
    "plt.plot(fpr, tpr, label=f\"AUC = {metrics['roc_auc']:.3f}\")\n",
    "plt.plot([0,1],[0,1],'--', linewidth=1)\n",
    "plt.xlabel(\"False Positive Rate\")\n",
    "plt.ylabel(\"True Positive Rate\")\n",
    "plt.title(f\"ROC Curve - {model_name}\")\n",
    "plt.legend(loc=\"lower right\")\n",
    "plt.tight_layout(); plt.savefig(out_dir / \"roc_curve.png\", dpi=150); plt.close()"
   ]
  },
  {
   "cell_type": "markdown",
   "id": "d3d54713",
   "metadata": {},
   "source": [
    "# PR"
   ]
  },
  {
   "cell_type": "code",
   "execution_count": null,
   "id": "186913c5",
   "metadata": {},
   "outputs": [],
   "source": [
    "prec, rec, _ = precision_recall_curve(y_true, y_prob)\n",
    "plt.figure()\n",
    "plt.plot(rec, prec, label=f\"PR AUC = {metrics['pr_auc']:.3f}\")\n",
    "plt.xlabel(\"Recall\")\n",
    "plt.ylabel(\"Precision\")\n",
    "plt.title(f\"Precision-Recall Curve - {model_name}\")\n",
    "plt.legend(loc=\"lower left\")\n",
    "plt.tight_layout(); plt.savefig(out_dir / \"pr_curve.png\", dpi=150); plt.close()"
   ]
  },
  {
   "cell_type": "markdown",
   "id": "478324ae",
   "metadata": {},
   "source": [
    "# Confusion Matrix"
   ]
  },
  {
   "cell_type": "code",
   "execution_count": null,
   "id": "b4869e89",
   "metadata": {},
   "outputs": [],
   "source": [
    "disp = ConfusionMatrixDisplay(confusion_matrix=cm, display_labels=[\"No Disease\", \"Disease\"])\n",
    "disp.plot(cmap=\"Blues\")\n",
    "plt.title(f\"Confusion Matrix - {model_name} (thr={threshold})\")\n",
    "plt.tight_layout(); plt.savefig(out_dir / \"confusion_matrix.png\", dpi=150); plt.close()"
   ]
  },
  {
   "cell_type": "markdown",
   "id": "b4f4b859",
   "metadata": {},
   "source": [
    "#  Salvataggi"
   ]
  },
  {
   "cell_type": "code",
   "execution_count": null,
   "id": "cdeb7dbc",
   "metadata": {},
   "outputs": [],
   "source": [
    "with open(out_dir / \"metrics.json\", \"w\") as f:\n",
    "json.dump({"
   ]
  },
  {
   "cell_type": "markdown",
   "id": "3276299a",
   "metadata": {},
   "source": [
    "**metrics,\n",
    "\"classification_report\": report_dict,"
   ]
  },
  {
   "cell_type": "code",
   "execution_count": null,
   "id": "20d421f7",
   "metadata": {},
   "outputs": [],
   "source": [
    "\"confusion_matrix\": cm.tolist()\n",
    "}, f, indent=2)\n",
    "pd.DataFrame(cm, index=[\"Actual_0\",\"Actual_1\"], columns=[\"Pred_0\",\"Pred_1\"])\\\n",
    ".to_csv(out_dir / \"confusion_matrix.csv\")\n",
    "pd.DataFrame(report_dict).to_csv(out_dir / \"classification_report.csv\")\n",
    "return metrics"
   ]
  },
  {
   "cell_type": "markdown",
   "id": "d0b75224",
   "metadata": {},
   "source": [
    "# ----------------------------------------------------------\n",
    "# 4) Spazio iperparametrico + RandomizedSearchCV"
   ]
  },
  {
   "cell_type": "code",
   "execution_count": null,
   "id": "1fe07ad8",
   "metadata": {},
   "outputs": [],
   "source": [
    "#  (scoring=roc_auc per confronto con RF / robustezza globale)"
   ]
  },
  {
   "cell_type": "markdown",
   "id": "15cb6137",
   "metadata": {},
   "source": [
    "# ----------------------------------------------------------"
   ]
  },
  {
   "cell_type": "code",
   "execution_count": null,
   "id": "af2b454f",
   "metadata": {},
   "outputs": [],
   "source": [
    "param_dist = {"
   ]
  },
  {
   "cell_type": "markdown",
   "id": "aa6efe88",
   "metadata": {},
   "source": [
    "\"n_estimators\":      [200, 300, 400],\n",
    "\"max_depth\":         [4, 6, 8],\n",
    "\"learning_rate\":     [0.05, 0.1],\n",
    "\"subsample\":         [0.8, 1.0],\n",
    "\"colsample_bytree\":  [0.8, 1.0],\n",
    "\"gamma\":             [0, 0.1],\n",
    "\"min_child_weight\":  [1, 2],\n",
    "\"reg_alpha\":         [0, 0.1],\n",
    "\"reg_lambda\":        [1, 2],"
   ]
  },
  {
   "cell_type": "markdown",
   "id": "97c050b1",
   "metadata": {},
   "source": [
    "## Oversampling (SMOTE)"
   ]
  },
  {
   "cell_type": "markdown",
   "id": "d238b357",
   "metadata": {},
   "source": [
    "}"
   ]
  },
  {
   "cell_type": "code",
   "execution_count": null,
   "id": "52f1f0a6",
   "metadata": {},
   "outputs": [],
   "source": [
    "xgb_base = XGBClassifier("
   ]
  },
  {
   "cell_type": "markdown",
   "id": "5a4f027f",
   "metadata": {},
   "source": [
    "objective=\"binary:logistic\","
   ]
  },
  {
   "cell_type": "code",
   "execution_count": null,
   "id": "a596181c",
   "metadata": {},
   "outputs": [],
   "source": [
    "eval_metric=\"logloss\",   # mettere qui (fit(...) su XGB 3.x non accetta eval_metric=...)"
   ]
  },
  {
   "cell_type": "markdown",
   "id": "c42f5b2c",
   "metadata": {},
   "source": [
    "n_jobs=-1,\n",
    "random_state=42,\n",
    "tree_method=\"hist\"       # più veloce/memoria efficiente su Colab"
   ]
  },
  {
   "cell_type": "code",
   "execution_count": null,
   "id": "879af920",
   "metadata": {},
   "outputs": [],
   "source": [
    ")\n",
    "cv = StratifiedKFold(n_splits=5, shuffle=True, random_state=42)\n",
    "print(\" Avvio RandomizedSearchCV per XGBoost...\")\n",
    "xgb_search = RandomizedSearchCV("
   ]
  },
  {
   "cell_type": "markdown",
   "id": "1c4002de",
   "metadata": {},
   "source": [
    "estimator=xgb_base,\n",
    "param_distributions=param_dist,\n",
    "n_iter=25,\n",
    "scoring=\"roc_auc\",\n",
    "cv=cv,\n",
    "n_jobs=-1,\n",
    "random_state=42,\n",
    "verbose=1"
   ]
  },
  {
   "cell_type": "code",
   "execution_count": null,
   "id": "aa1c585e",
   "metadata": {},
   "outputs": [],
   "source": [
    ")\n",
    "xgb_search.fit(X_train, y_train)\n",
    "best_params_raw = xgb_search.best_params_\n",
    "print(\" Migliori iperparametri (CV):\", best_params_raw)\n",
    "# converti eventuali tipi numpy in tipi Python puri (per JSON)\n",
    "def to_py(o):\n",
    "if isinstance(o, (np.integer,)):  return int(o)\n",
    "if isinstance(o, (np.floating,)): return float(o)\n",
    "if isinstance(o, (np.bool_,)):    return bool(o)\n",
    "return o\n",
    "best_params = {k: to_py(v) for k, v in best_params_raw.items()}\n",
    "with open(XGB_OUT / \"best_params.json\", \"w\") as f:\n",
    "json.dump(best_params, f, indent=2)"
   ]
  },
  {
   "cell_type": "markdown",
   "id": "3baac46a",
   "metadata": {},
   "source": [
    "# ----------------------------------------------------------\n",
    "#  Fit finale con i migliori iperparametri\n",
    "# ----------------------------------------------------------"
   ]
  },
  {
   "cell_type": "code",
   "execution_count": null,
   "id": "0cd04087",
   "metadata": {},
   "outputs": [],
   "source": [
    "xgb_final = XGBClassifier("
   ]
  },
  {
   "cell_type": "markdown",
   "id": "6b6aad5a",
   "metadata": {},
   "source": [
    "**best_params,\n",
    "objective=\"binary:logistic\",\n",
    "eval_metric=\"logloss\",\n",
    "n_jobs=-1,\n",
    "random_state=42,\n",
    "tree_method=\"hist\""
   ]
  },
  {
   "cell_type": "code",
   "execution_count": null,
   "id": "885aa1bc",
   "metadata": {},
   "outputs": [],
   "source": [
    ")\n",
    "print(\" Fit finale su tutto il training set...\")\n",
    "xgb_final.fit(X_train, y_train)"
   ]
  },
  {
   "cell_type": "markdown",
   "id": "2d591a3b",
   "metadata": {},
   "source": [
    "# ----------------------------------------------------------\n",
    "# Valutazione su test (soglia standard 0.5) + salvataggi\n",
    "# ----------------------------------------------------------"
   ]
  },
  {
   "cell_type": "code",
   "execution_count": null,
   "id": "090b6629",
   "metadata": {},
   "outputs": [],
   "source": [
    "print(\" Valutazione su test set (thr=0.5)...\")\n",
    "y_prob = xgb_final.predict_proba(X_test)[:,1]\n",
    "xgb_metrics = evaluate_and_save(\"XGBoost\", y_test, y_prob, XGB_OUT, threshold=0.5)\n",
    "# Importanza feature (Gini gain di XGBoost)\n",
    "try:\n",
    "importances = xgb_final.feature_importances_\n",
    "fi = pd.DataFrame({\"feature\": feature_set, \"importance\": importances})\\\n",
    ".sort_values(\"importance\", ascending=False)\n",
    "fi.to_csv(XGB_OUT / \"feature_importances.csv\", index=False)\n",
    "TOPK = min(15, len(fi))\n",
    "plt.figure(figsize=(8, 0.45*TOPK + 2))\n",
    "top = fi.head(TOPK)[::-1]\n",
    "plt.barh(top[\"feature\"], top[\"importance\"])\n",
    "plt.xlabel(\"Importance\")\n",
    "plt.title(f\"XGBoost - Top {TOPK} Feature Importances\")\n",
    "plt.tight_layout(); plt.savefig(XGB_OUT / \"feature_importances_top.png\", dpi=150); plt.close()\n",
    "except Exception as e:\n",
    "print(\" Impossibile salvare importanze feature:\", e)"
   ]
  },
  {
   "cell_type": "markdown",
   "id": "b317d547",
   "metadata": {},
   "source": [
    "# Salva modello"
   ]
  },
  {
   "cell_type": "code",
   "execution_count": null,
   "id": "41780c8b",
   "metadata": {},
   "outputs": [],
   "source": [
    "joblib.dump(xgb_final, XGB_OUT / \"xgb_model.pkl\")\n",
    "print(\"\\n Metriche TEST XGBoost:\")\n",
    "for k,v in xgb_metrics.items():\n",
    "if isinstance(v, float):\n",
    "print(f\" - {k}: {v:.6f}\")\n",
    "else:\n",
    "print(f\" - {k}: {v}\")\n",
    "print(f\"\\n File generati in: {XGB_OUT.resolve()}\")"
   ]
  },
  {
   "cell_type": "markdown",
   "id": "a86254ff",
   "metadata": {},
   "source": [
    "# ----------------------------------------------------------\n",
    "#  ZIP dei risultati per download locale\n",
    "# ----------------------------------------------------------"
   ]
  },
  {
   "cell_type": "code",
   "execution_count": null,
   "id": "c863a5ae",
   "metadata": {},
   "outputs": [],
   "source": [
    "import shutil\n",
    "zip_path = Path(\"/content/xgboost_results.zip\")\n",
    "shutil.make_archive(str(zip_path).replace(\".zip\",\"\"), \"zip\", XGB_OUT)\n",
    "files.download(zip_path)\n",
    "print(f\" ZIP pronto per il download: {zip_path}\")"
   ]
  },
  {
   "cell_type": "markdown",
   "id": "f558dbc2",
   "metadata": {},
   "source": [
    "## XGBoost — scelta soglia robusta"
   ]
  },
  {
   "cell_type": "code",
   "execution_count": null,
   "id": "f3e5b425",
   "metadata": {},
   "outputs": [],
   "source": [
    "#  XGBoost: scelta soglia robusta + salvataggi ===\n",
    "import json, pickle, pathlib\n",
    "import numpy as np\n",
    "import pandas as pd\n",
    "import matplotlib.pyplot as plt\n",
    "from sklearn.model_selection import train_test_split\n",
    "from sklearn.metrics import ("
   ]
  },
  {
   "cell_type": "markdown",
   "id": "769061e7",
   "metadata": {},
   "source": [
    "precision_score, recall_score, f1_score, roc_curve, auc,\n",
    "precision_recall_curve, confusion_matrix"
   ]
  },
  {
   "cell_type": "code",
   "execution_count": null,
   "id": "b681f973",
   "metadata": {},
   "outputs": [],
   "source": [
    ")\n",
    "# Percorsi (aggiorna la RUN se necessario)\n",
    "ARTIFACTS_DIR = pathlib.Path(\"/content/artifacts/20250821-191003/xgboost\")\n",
    "MODEL_PATH    = ARTIFACTS_DIR / \"xgb_model.pkl\"\n",
    "OUT_DIR       = ARTIFACTS_DIR / \"thresholding\"\n",
    "OUT_DIR.mkdir(parents=True, exist_ok=True)"
   ]
  },
  {
   "cell_type": "markdown",
   "id": "f0bcedee",
   "metadata": {},
   "source": [
    "# Carica modello + dati pre-elaborati"
   ]
  },
  {
   "cell_type": "code",
   "execution_count": null,
   "id": "548f0669",
   "metadata": {},
   "outputs": [],
   "source": [
    "with open(MODEL_PATH, \"rb\") as f:\n",
    "xgb_model = pickle.load(f)\n",
    "test_df  = pd.read_csv(\"/content/test_preprocessed.csv\")\n",
    "train_df = pd.read_csv(\"/content/train_preprocessed.csv\")  # solo per coerenza di feature\n",
    "target_col = \"target\"\n",
    "features = [c for c in test_df.columns if c != target_col]\n",
    "X_test_full = test_df[features].values\n",
    "y_test_full = test_df[target_col].astype(int).values\n",
    "# Split test -> validation + test_final (50/50 stratificato)\n",
    "X_val, X_test_final, y_val, y_test_final = train_test_split(\n",
    "X_test_full, y_test_full, test_size=0.5, stratify=y_test_full, random_state=42\n",
    ")"
   ]
  },
  {
   "cell_type": "markdown",
   "id": "ac1603eb",
   "metadata": {},
   "source": [
    "# Predizioni probabilistiche"
   ]
  },
  {
   "cell_type": "code",
   "execution_count": null,
   "id": "a4d3658d",
   "metadata": {},
   "outputs": [],
   "source": [
    "y_val_prob  = xgb_model.predict_proba(X_val)[:, 1]\n",
    "y_test_prob = xgb_model.predict_proba(X_test_final)[:, 1]"
   ]
  },
  {
   "cell_type": "markdown",
   "id": "1c573341",
   "metadata": {},
   "source": [
    "# Scansione soglie robusta"
   ]
  },
  {
   "cell_type": "code",
   "execution_count": null,
   "id": "8bcc9e10",
   "metadata": {},
   "outputs": [],
   "source": [
    "def scan_thresholds(y_true, y_score, min_precision=0.25, metric=\"recall\"):"
   ]
  },
  {
   "cell_type": "markdown",
   "id": "c3f91f6a",
   "metadata": {},
   "source": [
    "\"\"\""
   ]
  },
  {
   "cell_type": "code",
   "execution_count": null,
   "id": "e7767eac",
   "metadata": {},
   "outputs": [],
   "source": [
    "Ritorna: df con soglia/prec/rec/f1 e (best_t, best_row)"
   ]
  },
  {
   "cell_type": "markdown",
   "id": "1bb1dbc3",
   "metadata": {},
   "source": [
    "metric: \"recall\" (consigliato in ambito clinico) oppure \"f1\"\n",
    "\"\"\""
   ]
  },
  {
   "cell_type": "code",
   "execution_count": null,
   "id": "48bbd3b9",
   "metadata": {},
   "outputs": [],
   "source": [
    "thresholds = np.linspace(0.01, 0.99, 99)  # evita 0 e 1 estremi\n",
    "rows = []\n",
    "best_val, best_t, best_row = -1.0, 0.5, None\n",
    "for t in thresholds:\n",
    "y_pred = (y_score >= t).astype(int)"
   ]
  },
  {
   "cell_type": "markdown",
   "id": "2f688507",
   "metadata": {},
   "source": [
    "# metriche dirette, zero_division=0 evita warn/crash quando non ci sono predetti positivi"
   ]
  },
  {
   "cell_type": "code",
   "execution_count": null,
   "id": "e1cbfd4d",
   "metadata": {},
   "outputs": [],
   "source": [
    "prec = precision_score(y_true, y_pred, zero_division=0)\n",
    "rec  = recall_score(y_true, y_pred, zero_division=0)\n",
    "f1   = f1_score(y_true, y_pred, zero_division=0)"
   ]
  },
  {
   "cell_type": "markdown",
   "id": "9551cc56",
   "metadata": {},
   "source": [
    "# vincolo (facoltativo): precisione minima"
   ]
  },
  {
   "cell_type": "code",
   "execution_count": null,
   "id": "f0be4c8e",
   "metadata": {},
   "outputs": [],
   "source": [
    "if prec < min_precision:\n",
    "rows.append({\"threshold\": t, \"precision\": prec, \"recall\": rec, \"f1\": f1, \"valid\": False})"
   ]
  },
  {
   "cell_type": "markdown",
   "id": "7ed771a0",
   "metadata": {},
   "source": [
    "continue"
   ]
  },
  {
   "cell_type": "code",
   "execution_count": null,
   "id": "428fb69d",
   "metadata": {},
   "outputs": [],
   "source": [
    "rows.append({\"threshold\": t, \"precision\": prec, \"recall\": rec, \"f1\": f1, \"valid\": True})"
   ]
  },
  {
   "cell_type": "markdown",
   "id": "18eca22a",
   "metadata": {},
   "source": [
    "# funzione obiettivo"
   ]
  },
  {
   "cell_type": "code",
   "execution_count": null,
   "id": "0164c5c6",
   "metadata": {},
   "outputs": [],
   "source": [
    "val = rec if metric == \"recall\" else f1\n",
    "if val > best_val:\n",
    "best_val, best_t = val, float(t)\n",
    "best_row = {\"threshold\": best_t, \"precision\": prec, \"recall\": rec, \"f1\": f1}\n",
    "df = pd.DataFrame(rows)\n",
    "return df, best_t, best_row\n",
    "#  Selezione soglia su validation (massimizza recall, precision >= 0.25)\n",
    "scan_df, t_opt, best_row = scan_thresholds(y_val, y_val_prob, min_precision=0.25, metric=\"recall\")"
   ]
  },
  {
   "cell_type": "markdown",
   "id": "495b1322",
   "metadata": {},
   "source": [
    "#  Valutazione sul test finale alle due soglie"
   ]
  },
  {
   "cell_type": "code",
   "execution_count": null,
   "id": "ac68cb80",
   "metadata": {},
   "outputs": [],
   "source": [
    "def eval_at_threshold(y_true, y_score, t):\n",
    "y_pred = (y_score >= t).astype(int)\n",
    "cm  = confusion_matrix(y_true, y_pred)\n",
    "pr  = precision_score(y_true, y_pred, zero_division=0)\n",
    "rc  = recall_score(y_true, y_pred, zero_division=0)\n",
    "f1  = f1_score(y_true, y_pred, zero_division=0)\n",
    "fpr, tpr, _ = roc_curve(y_true, y_score)\n",
    "roc_auc = auc(fpr, tpr)\n",
    "return {"
   ]
  },
  {
   "cell_type": "markdown",
   "id": "7c735990",
   "metadata": {},
   "source": [
    "\"threshold\": float(t),\n",
    "\"precision\": float(pr),\n",
    "\"recall\": float(rc),\n",
    "\"f1\": float(f1),\n",
    "\"roc_auc\": float(roc_auc),"
   ]
  },
  {
   "cell_type": "code",
   "execution_count": null,
   "id": "fff90a6f",
   "metadata": {},
   "outputs": [],
   "source": [
    "\"confusion_matrix\": cm.tolist()"
   ]
  },
  {
   "cell_type": "markdown",
   "id": "139d1c08",
   "metadata": {},
   "source": [
    "}"
   ]
  },
  {
   "cell_type": "code",
   "execution_count": null,
   "id": "e364d983",
   "metadata": {},
   "outputs": [],
   "source": [
    "metrics_default = eval_at_threshold(y_test_final, y_test_prob, 0.5)\n",
    "metrics_opt     = eval_at_threshold(y_test_final, y_test_prob, t_opt)\n",
    "print(f\"Soglia scelta su validation: {t_opt:.3f}  |  Recall(val)={best_row['recall']:.3f}  |  Precision(val)={best_row['precision']:.3f}\")"
   ]
  },
  {
   "cell_type": "markdown",
   "id": "955d42f0",
   "metadata": {},
   "source": [
    "#  Curve PR con marker soglia ottimale"
   ]
  },
  {
   "cell_type": "code",
   "execution_count": null,
   "id": "adc691be",
   "metadata": {},
   "outputs": [],
   "source": [
    "prec, rec, thr = precision_recall_curve(y_test_final, y_test_prob)\n",
    "pr_auc = auc(rec, prec)\n",
    "thr_full = np.r_[thr, 1.0]\n",
    "idx = (np.abs(thr_full - t_opt)).argmin()\n",
    "plt.figure(figsize=(9,6))\n",
    "plt.plot(rec, prec, label=f\"PR AUC = {pr_auc:.3f}\")\n",
    "plt.scatter(rec[idx], prec[idx], s=70, label=f\"Soglia ottimale ≈ {t_opt:.2f}\")\n",
    "plt.xlabel(\"Recall\"); plt.ylabel(\"Precision\"); plt.title(\"Precision-Recall (XGBoost) - Test finale\")\n",
    "plt.legend()\n",
    "plt.tight_layout(); plt.savefig(OUT_DIR / \"precision_recall_threshold_xgb.png\", dpi=150); plt.close()"
   ]
  },
  {
   "cell_type": "markdown",
   "id": "9d24d0d9",
   "metadata": {},
   "source": [
    "#  Salvataggi"
   ]
  },
  {
   "cell_type": "code",
   "execution_count": null,
   "id": "2a71f309",
   "metadata": {},
   "outputs": [],
   "source": [
    "scan_df.to_csv(OUT_DIR / \"threshold_scan_xgb.csv\", index=False)\n",
    "with open(OUT_DIR / \"threshold_selection_xgb.json\", \"w\") as f:\n",
    "json.dump({"
   ]
  },
  {
   "cell_type": "markdown",
   "id": "3a0912dd",
   "metadata": {},
   "source": [
    "\"picked_threshold\": t_opt,\n",
    "\"validation_best_row\": best_row,\n",
    "\"test_metrics_default\": metrics_default,\n",
    "\"test_metrics_opt\": metrics_opt,"
   ]
  },
  {
   "cell_type": "code",
   "execution_count": null,
   "id": "e9dec08f",
   "metadata": {},
   "outputs": [],
   "source": [
    "\"pr_auc_test\": float(pr_auc)\n",
    "}, f, indent=2)\n",
    "print(\"== Test finale (thr=0.50) =>\", metrics_default)\n",
    "print(\"== Test finale (thr≈opt)  =>\", metrics_opt)\n",
    "print(\" Salvato:\", OUT_DIR)"
   ]
  },
  {
   "cell_type": "markdown",
   "id": "78eb149e",
   "metadata": {},
   "source": [
    "# Modulo di Similarità"
   ]
  },
  {
   "cell_type": "markdown",
   "id": "294a44a6",
   "metadata": {},
   "source": [
    "## Setup ambiente (librerie + cartelle)"
   ]
  },
  {
   "cell_type": "markdown",
   "id": "966a1b4d",
   "metadata": {},
   "source": [
    "# Install e import"
   ]
  },
  {
   "cell_type": "code",
   "execution_count": null,
   "id": "a534a4eb",
   "metadata": {},
   "outputs": [],
   "source": [
    "!pip install joblib --quiet\n",
    "import os, json, glob, pickle, datetime, pathlib, shutil\n",
    "import numpy as np\n",
    "import pandas as pd\n",
    "from sklearn.neighbors import NearestNeighbors\n",
    "from google.colab import files\n",
    "import matplotlib.pyplot as plt\n",
    "np.random.seed(42)"
   ]
  },
  {
   "cell_type": "markdown",
   "id": "a6c1063a",
   "metadata": {},
   "source": [
    "# Cartelle output “run-specific”"
   ]
  },
  {
   "cell_type": "code",
   "execution_count": null,
   "id": "5bfe8254",
   "metadata": {},
   "outputs": [],
   "source": [
    "RUN_ID   = datetime.datetime.now().strftime(\"%Y%m%d-%H%M%S\")\n",
    "BASE_OUT = pathlib.Path(f\"./artifacts/{RUN_ID}\")\n",
    "SIM_OUT  = BASE_OUT / \"similarity\"\n",
    "SIM_OUT.mkdir(parents=True, exist_ok=True)\n",
    "print(\"Run folder:\", BASE_OUT)"
   ]
  },
  {
   "cell_type": "markdown",
   "id": "757275ef",
   "metadata": {},
   "source": [
    "## Caricamento artefatti"
   ]
  },
  {
   "cell_type": "markdown",
   "id": "3c0cdcf1",
   "metadata": {},
   "source": [
    "## Oversampling (SMOTE)"
   ]
  },
  {
   "cell_type": "code",
   "execution_count": null,
   "id": "90cfa88f",
   "metadata": {},
   "outputs": [],
   "source": [
    "train_preprocessed.csv (solo per completezza, non lo useremo come corpus);\n",
    "test_preprocessed.csv (corpus di riferimento);"
   ]
  },
  {
   "cell_type": "markdown",
   "id": "16ec40d7",
   "metadata": {},
   "source": [
    "features_list.pkl (ordine/insieme delle feature);"
   ]
  },
  {
   "cell_type": "code",
   "execution_count": null,
   "id": "6fedacbf",
   "metadata": {},
   "outputs": [],
   "source": [
    "scaler.pkl (StandardScaler del BMI)."
   ]
  },
  {
   "cell_type": "markdown",
   "id": "5801ba74",
   "metadata": {},
   "source": [
    "# Seleziona dal  PC: train_preprocessed.csv, test_preprocessed.csv, scaler.pkl, features_list.pkl"
   ]
  },
  {
   "cell_type": "code",
   "execution_count": null,
   "id": "8b231c24",
   "metadata": {},
   "outputs": [],
   "source": [
    "uploaded = files.upload()\n",
    "def pick(name_contains, exts=(\".csv\",\".pkl\",\".joblib\")):\n",
    "for k in uploaded.keys():\n",
    "if name_contains in k and k.endswith(exts):\n",
    "return k\n",
    "raise ValueError(f\"File con '{name_contains}' non trovato. Caricati: {list(uploaded.keys())}\")\n",
    "train_path  = pick(\"train_preprocessed\", exts=(\".csv\",))\n",
    "test_path   = pick(\"test_preprocessed\",  exts=(\".csv\",))\n",
    "scaler_path = pick(\"scaler\",             exts=(\".pkl\",\".joblib\"))\n",
    "feat_path   = pick(\"features\",           exts=(\".pkl\",\".joblib\"))\n",
    "print(\"Train CSV: \", train_path)\n",
    "print(\"Test  CSV: \", test_path)\n",
    "print(\"Scaler:    \", scaler_path)\n",
    "print(\"Features:  \", feat_path)"
   ]
  },
  {
   "cell_type": "markdown",
   "id": "f5bcb3f4",
   "metadata": {},
   "source": [
    "## Caricamento artefatti"
   ]
  },
  {
   "cell_type": "markdown",
   "id": "b52cd1c3",
   "metadata": {},
   "source": [
    "# Carica CSV"
   ]
  },
  {
   "cell_type": "code",
   "execution_count": null,
   "id": "eacbafa6",
   "metadata": {},
   "outputs": [],
   "source": [
    "train_df = pd.read_csv(train_path)\n",
    "test_df  = pd.read_csv(test_path)"
   ]
  },
  {
   "cell_type": "markdown",
   "id": "f6b1b654",
   "metadata": {},
   "source": [
    "# Carica scaler"
   ]
  },
  {
   "cell_type": "code",
   "execution_count": null,
   "id": "9ec4dc56",
   "metadata": {},
   "outputs": [],
   "source": [
    "try:\n",
    "import joblib\n",
    "scaler = joblib.load(scaler_path)\n",
    "except Exception:\n",
    "with open(scaler_path, \"rb\") as f:\n",
    "scaler = pickle.load(f)"
   ]
  },
  {
   "cell_type": "markdown",
   "id": "e16c6880",
   "metadata": {},
   "source": [
    "# Carica lista feature"
   ]
  },
  {
   "cell_type": "code",
   "execution_count": null,
   "id": "654b8517",
   "metadata": {},
   "outputs": [],
   "source": [
    "try:\n",
    "feature_names = joblib.load(feat_path)\n",
    "except Exception:\n",
    "with open(feat_path, \"rb\") as f:\n",
    "feature_names = pickle.load(f)"
   ]
  },
  {
   "cell_type": "markdown",
   "id": "d1352197",
   "metadata": {},
   "source": [
    "# Target"
   ]
  },
  {
   "cell_type": "code",
   "execution_count": null,
   "id": "1495953e",
   "metadata": {},
   "outputs": [],
   "source": [
    "possible_y = [\"target\", \"HeartDiseaseorAttack\", \"HeartDisease\"]\n",
    "y_col = next((c for c in possible_y if c in test_df.columns), None)\n",
    "if y_col is None:\n",
    "raise ValueError(f\"Colonna target non trovata. Colonne disponibili: {test_df.columns.tolist()}\")\n",
    "def normalize_y(s):\n",
    "s = pd.Series(s).astype(int)\n",
    "return s.replace({2:0}).values  # prudenziale\n",
    "y_ref = normalize_y(test_df[y_col])\n",
    "# X_ref = 21 feature\n",
    "feature_set = [c for c in feature_names if c in test_df.columns]\n",
    "X_ref = test_df[feature_set].copy()\n",
    "print(f\" Target individuata: {y_col}\")\n",
    "print(\" X_ref shape:\", X_ref.shape)\n",
    "print(\" Distribuzione target (test):\", dict(pd.Series(y_ref).value_counts().sort_index()))"
   ]
  },
  {
   "cell_type": "markdown",
   "id": "1dba45fa",
   "metadata": {},
   "source": [
    "## Ricodifica variabili binarie 0/1"
   ]
  },
  {
   "cell_type": "markdown",
   "id": "70244e6e",
   "metadata": {},
   "source": [
    "Evitare il problema che alcune variabili hanno valori diversi da 0 e 1 in linea con la fonte del dataset\n",
    "# Dizionario binarie"
   ]
  },
  {
   "cell_type": "code",
   "execution_count": null,
   "id": "b760768f",
   "metadata": {},
   "outputs": [],
   "source": [
    "BINARY_CANDIDATES = ["
   ]
  },
  {
   "cell_type": "markdown",
   "id": "88e761c2",
   "metadata": {},
   "source": [
    "\"HighBP\",\"HighChol\",\"CholCheck\",\"Smoker\",\"Stroke\",\"Diabetes\",\n",
    "\"PhysActivity\",\"Fruits\",\"Veggies\",\"HvyAlcoholConsump\",\n",
    "\"AnyHealthcare\",\"NoDocbcCost\",\"DiffWalk\",\"Sex\"\n",
    "]"
   ]
  },
  {
   "cell_type": "code",
   "execution_count": null,
   "id": "81a795c4",
   "metadata": {},
   "outputs": [],
   "source": [
    "def recode_binary(df, cols):\n",
    "cols = [c for c in cols if c in df.columns]\n",
    "if not cols:\n",
    "return df\n",
    "# 1 se ==1, altrimenti 0\n",
    "df.loc[:, cols] = (df[cols] == 1).astype(int)\n",
    "return df\n",
    "X_ref = recode_binary(X_ref, BINARY_CANDIDATES)\n",
    "print(\"Ricodifica binarie → 0/1 completata su:\", [c for c in BINARY_CANDIDATES if c in X_ref.columns][:10], \"...\")"
   ]
  },
  {
   "cell_type": "markdown",
   "id": "3b752824",
   "metadata": {},
   "source": [
    "## Normalizzazione per distanza"
   ]
  },
  {
   "cell_type": "markdown",
   "id": "e595a221",
   "metadata": {},
   "source": [
    "Quando vogliamo calcolare quanto due pazienti sono “simili”, usiamo una distanza matematica (nel nostro caso la distanza euclidea).\n",
    "Problema: se le variabili non sono tutte sulla stessa scala, una sola variabile può “dominare” la distanza e rendere i risultati distorti."
   ]
  },
  {
   "cell_type": "code",
   "execution_count": null,
   "id": "a0b9a916",
   "metadata": {},
   "outputs": [],
   "source": [
    "Esempio molto intuitivo:"
   ]
  },
  {
   "cell_type": "markdown",
   "id": "499404e1",
   "metadata": {},
   "source": [
    "la variabile BMI (Indice di Massa Corporea) può avere valori da 15 a 50,\n",
    "la variabile Fumatore è solo 0 oppure 1.\n",
    "Se non facciamo nulla, il BMI contribuisce molto di più al calcolo della distanza rispetto al fatto che uno sia fumatore o meno. Risultato: i vicini verrebbero scelti quasi solo sulla base del BMI, trascurando gli altri fattori di rischio."
   ]
  },
  {
   "cell_type": "code",
   "execution_count": null,
   "id": "14ae682b",
   "metadata": {},
   "outputs": [],
   "source": [
    "Per evitare questo, normalizziamo tutte le variabili così che abbiano un peso comparabile:"
   ]
  },
  {
   "cell_type": "markdown",
   "id": "1357e2e6",
   "metadata": {},
   "source": [
    "Variabili binarie (0/1)\n",
    "Già perfette: non serve toccarle, perché “0” e “1” hanno lo stesso impatto di qualsiasi altra variabile normalizzata.\n",
    "BMI\n",
    "Qui applichiamo lo StandardScaler salvato nel pre-processing: trasformiamo i valori in “z-score”, cioè quanto ciascun BMI si discosta dalla media in termini di deviazioni standard. Lo scaler.transform(df[[\"BMI\"]]) produce un array float32 annidato ma la colonna BMI era float64 quindi è stato eseguito il cast a float64 al momento dell’assegnazione.\n",
    "➝ Così un BMI di 30 non viene considerato “grande” solo perché il numero è alto, ma perché è più alto della media della popolazione."
   ]
  },
  {
   "cell_type": "code",
   "execution_count": null,
   "id": "6c30bea0",
   "metadata": {},
   "outputs": [],
   "source": [
    "Variabili ordinali (scale finite)\n",
    "Alcune variabili hanno scale numeriche diverse:"
   ]
  },
  {
   "cell_type": "markdown",
   "id": "bae62eb9",
   "metadata": {},
   "source": [
    "GenHlth da 1 a 5,\n",
    "Age da 1 a 13,\n",
    "Income da 1 a 8,\n",
    "MentHlth da 0 a 30, ecc.\n",
    "Le dividiamo per il loro massimo teorico, così diventano tutte comprese tra 0 e 1.\n",
    "➝ In questo modo, “età=13” diventa 1.0, “età=6” diventa circa 0.46.\n",
    "Così l’età pesa come qualsiasi altro fattore in scala ridotta.\n",
    "# Scale teoriche per ordinali"
   ]
  },
  {
   "cell_type": "code",
   "execution_count": null,
   "id": "2c76ec8a",
   "metadata": {},
   "outputs": [],
   "source": [
    "ORDINAL_SCALES = {"
   ]
  },
  {
   "cell_type": "markdown",
   "id": "9239e068",
   "metadata": {},
   "source": [
    "\"GenHlth\": 5,   # 1..5\n",
    "\"Age\": 13,      # 1..13\n",
    "\"Education\": 6, # 1..6\n",
    "\"Income\": 8,    # 1..8\n",
    "\"MentHlth\": 30, # 0..30\n",
    "\"PhysHlth\": 30  # 0..30\n",
    "}"
   ]
  },
  {
   "cell_type": "code",
   "execution_count": null,
   "id": "d14e218e",
   "metadata": {},
   "outputs": [],
   "source": [
    "def normalize_dataframe_for_distance(df, feature_names, scaler, ordinal_scales):\n",
    "Xn = df[feature_names].copy()"
   ]
  },
  {
   "cell_type": "markdown",
   "id": "7c0c1dc1",
   "metadata": {},
   "source": [
    "# BMI → z-score con scaler del pre-processing"
   ]
  },
  {
   "cell_type": "code",
   "execution_count": null,
   "id": "2a8bfdcc",
   "metadata": {},
   "outputs": [],
   "source": [
    "if \"BMI\" in Xn.columns:\n",
    "bmi_df = Xn[[\"BMI\"]].astype(\"float64\")\n",
    "Xn.loc[:, \"BMI\"] = pd.DataFrame(\n",
    "scaler.transform(bmi_df),"
   ]
  },
  {
   "cell_type": "markdown",
   "id": "e547a989",
   "metadata": {},
   "source": [
    "index=Xn.index,\n",
    "columns=[\"BMI\"]"
   ]
  },
  {
   "cell_type": "code",
   "execution_count": null,
   "id": "c525ba1e",
   "metadata": {},
   "outputs": [],
   "source": [
    ").astype(\"float64\")"
   ]
  },
  {
   "cell_type": "markdown",
   "id": "06fd4d3a",
   "metadata": {},
   "source": [
    "# Ordinali → [0,1]"
   ]
  },
  {
   "cell_type": "code",
   "execution_count": null,
   "id": "6e20cd52",
   "metadata": {},
   "outputs": [],
   "source": [
    "for col, mx in ordinal_scales.items():\n",
    "if col in Xn.columns:\n",
    "Xn.loc[:, col] = Xn[col].astype(\"float64\") / float(mx)\n",
    "# Tutto float64 (sklearn compatibile)\n",
    "return Xn.astype(\"float64\")\n",
    "X_ref_norm = normalize_dataframe_for_distance("
   ]
  },
  {
   "cell_type": "markdown",
   "id": "84f43394",
   "metadata": {},
   "source": [
    "df=X_ref.copy(), feature_names=feature_set, scaler=scaler, ordinal_scales=ORDINAL_SCALES"
   ]
  },
  {
   "cell_type": "code",
   "execution_count": null,
   "id": "2089e606",
   "metadata": {},
   "outputs": [],
   "source": [
    ")\n",
    "print(\" X_ref normalizzato:\", X_ref_norm.shape)"
   ]
  },
  {
   "cell_type": "markdown",
   "id": "faa3e243",
   "metadata": {},
   "source": [
    "## Addestramento indici KNN"
   ]
  },
  {
   "cell_type": "markdown",
   "id": "de3c1dc0",
   "metadata": {},
   "source": [
    "#  KNN globale"
   ]
  },
  {
   "cell_type": "code",
   "execution_count": null,
   "id": "ed269183",
   "metadata": {},
   "outputs": [],
   "source": [
    "knn = NearestNeighbors(n_neighbors=min(200, len(X_ref_norm)), metric=\"euclidean\")\n",
    "knn.fit(X_ref_norm.values)"
   ]
  },
  {
   "cell_type": "markdown",
   "id": "44229029",
   "metadata": {},
   "source": [
    "# KNN solo positivi"
   ]
  },
  {
   "cell_type": "code",
   "execution_count": null,
   "id": "90868df8",
   "metadata": {},
   "outputs": [],
   "source": [
    "mask_pos   = (y_ref == 1)\n",
    "X_pos_norm = X_ref_norm[mask_pos]\n",
    "knn_pos = None\n",
    "if X_pos_norm.shape[0] >= 1:\n",
    "knn_pos = NearestNeighbors(n_neighbors=min(200, len(X_pos_norm)), metric=\"euclidean\")\n",
    "knn_pos.fit(X_pos_norm.values)\n",
    "print(f\" KNN globale pronto con n={knn.n_neighbors}\")\n",
    "print(f\" KNN positivi: {'OK' if knn_pos is not None else 'NON disponibile (nessun positivo?)'}\")"
   ]
  },
  {
   "cell_type": "markdown",
   "id": "c881a00b",
   "metadata": {},
   "source": [
    "## Utility e funzioni di similarità"
   ]
  },
  {
   "cell_type": "code",
   "execution_count": null,
   "id": "2b48f30c",
   "metadata": {},
   "outputs": [],
   "source": [
    "# binarie effettive presenti (per fattori di rischio)\n",
    "BINARY_COLS = [c for c in BINARY_CANDIDATES if c in feature_set]\n",
    "def normalize_single_patient_for_distance(p_series, scaler, feature_names, ordinal_scales):\n",
    "p = pd.DataFrame([p_series.values], columns=feature_names).copy()\n",
    "if \"BMI\" in p.columns:\n",
    "bmi_df = p[[\"BMI\"]].astype(\"float64\")\n",
    "p.loc[:, \"BMI\"] = pd.DataFrame(\n",
    "scaler.transform(bmi_df),"
   ]
  },
  {
   "cell_type": "markdown",
   "id": "dda41fb8",
   "metadata": {},
   "source": [
    "index=p.index,\n",
    "columns=[\"BMI\"]"
   ]
  },
  {
   "cell_type": "code",
   "execution_count": null,
   "id": "fb01d1dd",
   "metadata": {},
   "outputs": [],
   "source": [
    ").astype(\"float64\")\n",
    "for col, mx in ordinal_scales.items():\n",
    "if col in p.columns:\n",
    "p.loc[:, col] = p[col].astype(\"float64\") / float(mx)\n",
    "return p.astype(\"float64\")\n",
    "def analyze_similarity(paziente_series, k_total=50, k_pos_min=5, save_json=True, out_dir=SIM_OUT):"
   ]
  },
  {
   "cell_type": "markdown",
   "id": "8c93f84c",
   "metadata": {},
   "source": [
    "\"\"\"\n",
    "1) Trova k_total vicini globali su X_ref_norm.\n",
    "2) Se i positivi tra quei vicini < k_pos_min, aggiunge i più vicini dal KNN dei positivi.\n",
    "3) Calcola % malattia (pesata per distanza) e fattori binari ricorrenti tra i positivi.\n",
    "\"\"\"\n",
    "# normalizza paziente"
   ]
  },
  {
   "cell_type": "code",
   "execution_count": null,
   "id": "65eb02f2",
   "metadata": {},
   "outputs": [],
   "source": [
    "p_norm = normalize_single_patient_for_distance("
   ]
  },
  {
   "cell_type": "markdown",
   "id": "f06fe0bc",
   "metadata": {},
   "source": [
    "p_series=paziente_series, scaler=scaler, feature_names=feature_set, ordinal_scales=ORDINAL_SCALES\n",
    ").values\n",
    "# vicini globali"
   ]
  },
  {
   "cell_type": "code",
   "execution_count": null,
   "id": "20af832a",
   "metadata": {},
   "outputs": [],
   "source": [
    "d_all, i_all = knn.kneighbors(p_norm, n_neighbors=min(k_total, len(X_ref_norm)), return_distance=True)\n",
    "d_all = d_all[0]; i_all = i_all[0]\n",
    "y_all = y_ref[i_all]\n",
    "# garantisci almeno k_pos_min positivi (se possibile)\n",
    "if (knn_pos is not None) and (y_all.sum() < k_pos_min):\n",
    "need = int(k_pos_min - y_all.sum())\n",
    "need = max(0, min(need, X_pos_norm.shape[0]))\n",
    "if need > 0:\n",
    "d_pos, i_pos = knn_pos.kneighbors(p_norm, n_neighbors=need, return_distance=True)\n",
    "i_pos_global = np.where(y_ref == 1)[0][i_pos[0]]\n",
    "i_all = np.r_[i_all, i_pos_global]\n",
    "d_all = np.r_[d_all, d_pos[0]]\n",
    "y_all = y_ref[i_all]\n",
    "# % malati pesata per distanza (pesi=1/(d+1e-6))\n",
    "w = 1.0 / (d_all + 1e-6)\n",
    "perc_malati = float((w * y_all).sum() / w.sum() * 100.0)"
   ]
  },
  {
   "cell_type": "markdown",
   "id": "372a2501",
   "metadata": {},
   "source": [
    "# fattori binari ricorrenti tra i POSITIVI"
   ]
  },
  {
   "cell_type": "code",
   "execution_count": null,
   "id": "27b6c131",
   "metadata": {},
   "outputs": [],
   "source": [
    "fattori = {}\n",
    "pos_mask_local = (y_all == 1)\n",
    "if pos_mask_local.any():\n",
    "w_pos  = w[pos_mask_local]\n",
    "idxpos = i_all[pos_mask_local]\n",
    "for col in BINARY_COLS:\n",
    "vals = X_ref.loc[idxpos, col].values.astype(float)  # ora veri 0/1\n",
    "fattori[col] = float((w_pos * vals).sum() / (w_pos.sum() + 1e-9))\n",
    "fattori_sorted = dict(sorted(fattori.items(), key=lambda kv: kv[1], reverse=True)[:10])\n",
    "result = {"
   ]
  },
  {
   "cell_type": "markdown",
   "id": "f161eac9",
   "metadata": {},
   "source": [
    "\"k_total\": int(min(k_total, len(X_ref_norm))),\n",
    "\"k_pos_min\": int(k_pos_min),\n",
    "\"neighbors_index\": i_all.tolist(),\n",
    "\"perc_malati_vicini\": perc_malati,   # %\n",
    "\"fattori_rischio_top\": fattori_sorted\n",
    "}"
   ]
  },
  {
   "cell_type": "code",
   "execution_count": null,
   "id": "00fd4ad5",
   "metadata": {},
   "outputs": [],
   "source": [
    "if save_json:\n",
    "out_dir.mkdir(parents=True, exist_ok=True)\n",
    "pid = paziente_series.name if paziente_series.name is not None else \"sample\"\n",
    "out_path = out_dir / f\"similarity_patient_{pid}.json\"\n",
    "with open(out_path, \"w\") as f:\n",
    "json.dump(result, f, indent=2)\n",
    "return result"
   ]
  },
  {
   "cell_type": "markdown",
   "id": "c9fb0045",
   "metadata": {},
   "source": [
    "## Esempio: analisi di un paziente"
   ]
  },
  {
   "cell_type": "code",
   "execution_count": null,
   "id": "0e2d8003",
   "metadata": {},
   "outputs": [],
   "source": [
    "patient_idx = int(np.random.choice(X_ref.index.values, 1)[0])\n",
    "paziente = X_ref.loc[patient_idx]\n",
    "print(\"Paziente test index:\", patient_idx)\n",
    "res = analyze_similarity(paziente_series=paziente, k_total=50, k_pos_min=5, save_json=True, out_dir=SIM_OUT)\n",
    "print(f\" % malattia tra i vicini (pesata): {res['perc_malati_vicini']:.2f}%\")\n",
    "print(\" Fattori di rischio (top, 0..1):\", res[\"fattori_rischio_top\"])"
   ]
  },
  {
   "cell_type": "markdown",
   "id": "bea511a7",
   "metadata": {},
   "source": [
    "## Analisi batch di 10 pazienti"
   ]
  },
  {
   "cell_type": "code",
   "execution_count": null,
   "id": "7a889054",
   "metadata": {},
   "outputs": [],
   "source": [
    "import pandas as pd\n",
    "import numpy as np\n",
    "from pathlib import Path\n",
    "def analyze_similarity_batch_random(df, n=10, k_total=200, k_pos_min=100, out_dir=SIM_OUT):"
   ]
  },
  {
   "cell_type": "markdown",
   "id": "e4b4129a",
   "metadata": {},
   "source": [
    "\"\"\"\n",
    "Esegue l'analisi per n pazienti scelti CASUALMENTE dal DataFrame X_ref."
   ]
  },
  {
   "cell_type": "code",
   "execution_count": null,
   "id": "033232d2",
   "metadata": {},
   "outputs": [],
   "source": [
    "Salva un CSV riassuntivo con:"
   ]
  },
  {
   "cell_type": "markdown",
   "id": "a3998eb0",
   "metadata": {},
   "source": [
    "- indice reale del paziente (quello del dataset),\n",
    "- percentuale malati tra i vicini,\n",
    "- top-3 fattori di rischio più ricorrenti.\n",
    "\"\"\""
   ]
  },
  {
   "cell_type": "code",
   "execution_count": null,
   "id": "1ee0415c",
   "metadata": {},
   "outputs": [],
   "source": [
    "rows = []"
   ]
  },
  {
   "cell_type": "markdown",
   "id": "6779344a",
   "metadata": {},
   "source": [
    "# Campionamento casuale degli indici del dataset"
   ]
  },
  {
   "cell_type": "code",
   "execution_count": null,
   "id": "224a9a9a",
   "metadata": {},
   "outputs": [],
   "source": [
    "sample_idx = np.random.choice(df.index.values, size=n, replace=False)\n",
    "for i, idx in enumerate(sample_idx, 1):\n",
    "print(f\"[{i}/{len(sample_idx)}] Analizzo paziente index={idx}\")\n",
    "paz = df.loc[idx]\n",
    "res = analyze_similarity(paz, k_total=k_total, k_pos_min=k_pos_min, save_json=True, out_dir=out_dir)"
   ]
  },
  {
   "cell_type": "markdown",
   "id": "cfffa912",
   "metadata": {},
   "source": [
    "# Top-3 fattori di rischio"
   ]
  },
  {
   "cell_type": "code",
   "execution_count": null,
   "id": "8542a11c",
   "metadata": {},
   "outputs": [],
   "source": [
    "top_items = list(res[\"fattori_rischio_top\"].items())\n",
    "top1 = f\"{top_items[0][0]}={top_items[0][1]:.2f}\" if len(top_items)>0 else \"\"\n",
    "top2 = f\"{top_items[1][0]}={top_items[1][1]:.2f}\" if len(top_items)>1 else \"\"\n",
    "top3 = f\"{top_items[2][0]}={top_items[2][1]:.2f}\" if len(top_items)>2 else \"\""
   ]
  },
  {
   "cell_type": "markdown",
   "id": "7bb52b62",
   "metadata": {},
   "source": [
    "rows.append({\n",
    "\"patient_index\": idx,   # indice reale dal dataset\n",
    "\"perc_malati_vicini\": res[\"perc_malati_vicini\"],\n",
    "\"top1\": top1, \"top2\": top2, \"top3\": top3"
   ]
  },
  {
   "cell_type": "code",
   "execution_count": null,
   "id": "7824755c",
   "metadata": {},
   "outputs": [],
   "source": [
    "})"
   ]
  },
  {
   "cell_type": "markdown",
   "id": "64ccf274",
   "metadata": {},
   "source": [
    "# Costruisci DataFrame e salva CSV"
   ]
  },
  {
   "cell_type": "code",
   "execution_count": null,
   "id": "7e03e580",
   "metadata": {},
   "outputs": [],
   "source": [
    "df_out = pd.DataFrame(rows)\n",
    "out_csv = out_dir / \"similarity_batch_summary.csv\"\n",
    "df_out.to_csv(out_csv, index=False)\n",
    "print(f\"\\n CSV riassuntivo salvato: {out_csv}\")\n",
    "print(f\"Report creato con {len(df_out)} pazienti (campionati casualmente):\")\n",
    "print(df_out.to_string(index=False))  # stampa TUTTE le righe\n",
    "return df_out"
   ]
  },
  {
   "cell_type": "markdown",
   "id": "02497795",
   "metadata": {},
   "source": [
    "# Esecuzione con n=10 pazienti casuali"
   ]
  },
  {
   "cell_type": "code",
   "execution_count": null,
   "id": "e0559860",
   "metadata": {},
   "outputs": [],
   "source": [
    "df_batch = analyze_similarity_batch_random(\n",
    "df=X_ref,          # il DataFrame di riferimento (test reale)"
   ]
  },
  {
   "cell_type": "markdown",
   "id": "afa384eb",
   "metadata": {},
   "source": [
    "n=10,              # numero di pazienti da analizzare\n",
    "k_total=200,       # numero di vicini totali\n",
    "k_pos_min=100,     # min. vicini positivi garantiti\n",
    "out_dir=SIM_OUT"
   ]
  },
  {
   "cell_type": "code",
   "execution_count": null,
   "id": "755417d1",
   "metadata": {},
   "outputs": [],
   "source": [
    ")"
   ]
  },
  {
   "cell_type": "markdown",
   "id": "a1baddbd",
   "metadata": {},
   "source": [
    "### Download CSV (Similarity)"
   ]
  },
  {
   "cell_type": "code",
   "execution_count": null,
   "id": "1867185a",
   "metadata": {},
   "outputs": [],
   "source": [
    "import glob\n",
    "from pathlib import Path\n",
    "import pandas as pd"
   ]
  },
  {
   "cell_type": "markdown",
   "id": "a17cb024",
   "metadata": {},
   "source": [
    "# trova l'ultima cartella artifacts/.../similarity/"
   ]
  },
  {
   "cell_type": "code",
   "execution_count": null,
   "id": "e4b9f1db",
   "metadata": {},
   "outputs": [],
   "source": [
    "sim_dirs = sorted(glob.glob(\"artifacts/*/similarity/\"))\n",
    "assert sim_dirs, \"Nessuna cartella similarity trovata sotto artifacts/.\"\n",
    "SIM_DIR = Path(sim_dirs[-1])\n",
    "print(\"Cartella similarity:\", SIM_DIR)"
   ]
  },
  {
   "cell_type": "markdown",
   "id": "76bc164c",
   "metadata": {},
   "source": [
    "# path del CSV"
   ]
  },
  {
   "cell_type": "code",
   "execution_count": null,
   "id": "b2ac006d",
   "metadata": {},
   "outputs": [],
   "source": [
    "csv_path = SIM_DIR / \"similarity_batch_summary.csv\"\n",
    "assert csv_path.exists(), f\"CSV non trovato: {csv_path}\""
   ]
  },
  {
   "cell_type": "markdown",
   "id": "85d6dcac",
   "metadata": {},
   "source": [
    "# mostra anteprima"
   ]
  },
  {
   "cell_type": "code",
   "execution_count": null,
   "id": "ecb00b89",
   "metadata": {},
   "outputs": [],
   "source": [
    "df = pd.read_csv(csv_path)\n",
    "print(\"\\nPrime 10 righe:\")\n",
    "print(df.head(10).to_string(index=False))\n",
    "# avvia download in locale (Colab)\n",
    "from google.colab import files\n",
    "files.download(str(csv_path))\n",
    "print(\"\\n Download del CSV avviato:\", csv_path)"
   ]
  },
  {
   "cell_type": "markdown",
   "id": "c3b5cd3c",
   "metadata": {},
   "source": [
    "### Download ZIP (Similarity)"
   ]
  },
  {
   "cell_type": "code",
   "execution_count": null,
   "id": "26ad7b59",
   "metadata": {},
   "outputs": [],
   "source": [
    "import os, shutil, glob\n",
    "from pathlib import Path"
   ]
  },
  {
   "cell_type": "markdown",
   "id": "9428a7d1",
   "metadata": {},
   "source": [
    "# 1) ultima cartella similarity"
   ]
  },
  {
   "cell_type": "code",
   "execution_count": null,
   "id": "a207e336",
   "metadata": {},
   "outputs": [],
   "source": [
    "sim_dirs = sorted(glob.glob(\"artifacts/*/similarity/\"))\n",
    "assert sim_dirs, \"Nessuna cartella similarity trovata.\"\n",
    "SIM_DIR = Path(sim_dirs[-1])"
   ]
  },
  {
   "cell_type": "markdown",
   "id": "5c254914",
   "metadata": {},
   "source": [
    "# 2) CSV riassuntivo"
   ]
  },
  {
   "cell_type": "code",
   "execution_count": null,
   "id": "3ed9cae9",
   "metadata": {},
   "outputs": [],
   "source": [
    "csv_path = SIM_DIR / \"similarity_batch_summary.csv\"\n",
    "assert csv_path.exists(), f\"CSV non trovato: {csv_path}\""
   ]
  },
  {
   "cell_type": "markdown",
   "id": "58d325f6",
   "metadata": {},
   "source": [
    "# 3) leggi gli indici reali dal CSV"
   ]
  },
  {
   "cell_type": "code",
   "execution_count": null,
   "id": "4f4e6693",
   "metadata": {},
   "outputs": [],
   "source": [
    "import pandas as pd\n",
    "ids = pd.read_csv(csv_path)[\"patient_index\"].astype(int).tolist()"
   ]
  },
  {
   "cell_type": "markdown",
   "id": "ad51374a",
   "metadata": {},
   "source": [
    "# 4) copia i JSON elencati nel CSV + il CSV in una sottocartella"
   ]
  },
  {
   "cell_type": "code",
   "execution_count": null,
   "id": "758e2ddf",
   "metadata": {},
   "outputs": [],
   "source": [
    "dst_dir = SIM_DIR / \"batch_json_10\"\n",
    "dst_dir.mkdir(exist_ok=True)\n",
    "copiati = []\n",
    "for pid in ids:\n",
    "src = SIM_DIR / f\"similarity_patient_{pid}.json\"\n",
    "if src.exists():\n",
    "shutil.copy2(src, dst_dir / src.name)\n",
    "copiati.append(src.name)\n",
    "else:\n",
    "print(\" Mancante:\", src.name)"
   ]
  },
  {
   "cell_type": "markdown",
   "id": "f8a00693",
   "metadata": {},
   "source": [
    "# copia anche il CSV"
   ]
  },
  {
   "cell_type": "code",
   "execution_count": null,
   "id": "384aa241",
   "metadata": {},
   "outputs": [],
   "source": [
    "shutil.copy2(csv_path, dst_dir / csv_path.name)\n",
    "print(f\"File copiati ({len(copiati)} JSON + CSV):\", len(copiati), \"+ 1\")"
   ]
  },
  {
   "cell_type": "markdown",
   "id": "b3576217",
   "metadata": {},
   "source": [
    "# 5) zippa e scarica"
   ]
  },
  {
   "cell_type": "code",
   "execution_count": null,
   "id": "fe8e886d",
   "metadata": {},
   "outputs": [],
   "source": [
    "zip_path = SIM_DIR / \"batch_json_10.zip\"\n",
    "if zip_path.exists():\n",
    "zip_path.unlink()\n",
    "shutil.make_archive(str(zip_path).replace(\".zip\",\"\"), \"zip\", dst_dir)\n",
    "from google.colab import files\n",
    "files.download(str(zip_path))\n",
    "print(\" ZIP scaricato:\", zip_path)"
   ]
  }
 ],
 "metadata": {},
 "nbformat": 4,
 "nbformat_minor": 5
}
